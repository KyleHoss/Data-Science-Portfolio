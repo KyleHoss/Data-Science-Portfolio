{
 "cells": [
  {
   "cell_type": "code",
   "execution_count": 1,
   "metadata": {},
   "outputs": [],
   "source": [
    "# Import Core Libraries\n",
    "import os\n",
    "import numpy as np\n",
    "import pandas as pd\n",
    "import seaborn as sns\n",
    "import plotly.express as px\n",
    "import matplotlib.pyplot as plt\n",
    "import plotly.graph_objs as go\n",
    "from plotly.subplots import make_subplots\n",
    "\n",
    "# Set Theme for Plotly Maps\n",
    "# Different MapBox Styles\n",
    "# carto-darkmatter\n",
    "# open-street-map\n",
    "# carto-positron\n",
    "\n",
    "map_theme = 'carto-darkmatter'\n",
    "\n",
    "# Set Theme for graphs\n",
    "sns.set_theme(palette='bright')\n",
    "\n",
    "# Set Pandas Parameters\n",
    "pd.set_option('display.max_rows', 50)\n",
    "pd.set_option('display.max_columns', 500)\n",
    "\n",
    "# Import DataFrame\n",
    "stl_df = pd.read_csv('Data/STL-Data-2023.csv')\n",
    "\n",
    "# Create County DataFrame\n",
    "stl_county_df = stl_df.loc[stl_df['Geo-County'] == 'Saint Louis County']\n",
    "\n",
    "# Create City DataFrame\n",
    "stl_city_df = stl_df.loc[stl_df['Geo-County'] == 'Saint-Louis City']\n"
   ]
  },
  {
   "cell_type": "code",
   "execution_count": 2,
   "metadata": {},
   "outputs": [
    {
     "name": "stdout",
     "output_type": "stream",
     "text": [
      "<class 'pandas.core.frame.DataFrame'>\n",
      "RangeIndex: 91339 entries, 0 to 91338\n",
      "Data columns (total 25 columns):\n",
      " #   Column                  Non-Null Count  Dtype  \n",
      "---  ------                  --------------  -----  \n",
      " 0   DateTime                91339 non-null  object \n",
      " 1   ORIG-Offense            91339 non-null  object \n",
      " 2   NIBRS-Code              84416 non-null  object \n",
      " 3   NIBRS-Offense           84416 non-null  object \n",
      " 4   NIBRS-Offense-Category  84416 non-null  object \n",
      " 5   NIBRS-Crime-Against     84416 non-null  object \n",
      " 6   Coordinates             91339 non-null  object \n",
      " 7   Geo-Coordinates         90614 non-null  object \n",
      " 8   Geo-Latitude            90614 non-null  float64\n",
      " 9   Geo-Longitude           90614 non-null  float64\n",
      " 10  Geo-Location            90614 non-null  object \n",
      " 11  Geo-HouseNumber         72337 non-null  object \n",
      " 12  Geo-Road                90314 non-null  object \n",
      " 13  Geo-Neighborhood        55387 non-null  object \n",
      " 14  Geo-Town                19280 non-null  object \n",
      " 15  Geo-Village             16760 non-null  object \n",
      " 16  Geo-City                56924 non-null  object \n",
      " 17  Geo-ZipCode             90427 non-null  float64\n",
      " 18  Geo-County              90614 non-null  object \n",
      " 19  Geo-State               90614 non-null  object \n",
      " 20  Geo-Country             90614 non-null  object \n",
      " 21  Nei-NeighborHood        56252 non-null  object \n",
      " 22  Nei-District            56252 non-null  float64\n",
      " 23  Nei-Patrol-District     56252 non-null  object \n",
      " 24  Village&Towns           35227 non-null  object \n",
      "dtypes: float64(4), object(21)\n",
      "memory usage: 17.4+ MB\n"
     ]
    }
   ],
   "source": [
    "stl_df.info()"
   ]
  },
  {
   "cell_type": "code",
   "execution_count": 4,
   "metadata": {},
   "outputs": [
    {
     "data": {
      "text/plain": [
       "array(['NONCRIMINAL - OFFICER INVOLVED SHOOTING', 'Weapon Law Violations',\n",
       "       'Motor Vehicle Theft', 'Drug/Narcotic Violations',\n",
       "       'Counterfeiting/Forgery', 'Embezzlement', 'Arson',\n",
       "       'Extortion/Blackmail', 'Animal Cruelty', 'Bribery'], dtype=object)"
      ]
     },
     "execution_count": 4,
     "metadata": {},
     "output_type": "execute_result"
    }
   ],
   "source": [
    "stl_df[stl_df['NIBRS-Offense'].isnull()]['ORIG-Offense'].unique()"
   ]
  },
  {
   "cell_type": "code",
   "execution_count": null,
   "metadata": {},
   "outputs": [],
   "source": []
  }
 ],
 "metadata": {
  "kernelspec": {
   "display_name": "base",
   "language": "python",
   "name": "python3"
  },
  "language_info": {
   "codemirror_mode": {
    "name": "ipython",
    "version": 3
   },
   "file_extension": ".py",
   "mimetype": "text/x-python",
   "name": "python",
   "nbconvert_exporter": "python",
   "pygments_lexer": "ipython3",
   "version": "3.11.5"
  }
 },
 "nbformat": 4,
 "nbformat_minor": 2
}
