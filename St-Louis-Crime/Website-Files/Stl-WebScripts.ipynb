{
 "cells": [
  {
   "cell_type": "code",
   "execution_count": 30,
   "metadata": {},
   "outputs": [],
   "source": [
    "# Import Core Libraries\n",
    "import os\n",
    "import numpy as np\n",
    "import pandas as pd\n",
    "import seaborn as sns\n",
    "import plotly.express as px\n",
    "import matplotlib.pyplot as plt\n",
    "import plotly.graph_objs as go\n",
    "from plotly.subplots import make_subplots\n",
    "\n",
    "# Set Theme for Plotly Maps\n",
    "# Different MapBox Styles\n",
    "# carto-darkmatter\n",
    "# open-street-map\n",
    "# carto-positron\n",
    "\n",
    "# Set Global Map Theme\n",
    "map_theme = 'carto-darkmatter'\n",
    "\n",
    "# Set Theme for graphs\n",
    "sns.set_theme(palette='bright')\n",
    "\n",
    "# Set Pandas Parameters\n",
    "pd.set_option('display.max_rows', 50)\n",
    "pd.set_option('display.max_columns', 500)\n",
    "\n",
    "# Import DataFrame\n",
    "stl_df = pd.read_csv('../Data/STL-Data-2023.csv')\n",
    "\n",
    "# Create County DataFrame\n",
    "stl_county_df = stl_df.loc[stl_df['Geo-County'] == 'Saint Louis County']\n",
    "\n",
    "# Create City DataFrame\n",
    "stl_city_df = stl_df.loc[stl_df['Geo-County'] == 'Saint-Louis City']"
   ]
  },
  {
   "cell_type": "markdown",
   "metadata": {},
   "source": [
    "## Directory Structure"
   ]
  },
  {
   "cell_type": "code",
   "execution_count": 29,
   "metadata": {},
   "outputs": [],
   "source": [
    "# Create Directories for City & County\n",
    "def createCityCountyDirectores(nameList):\n",
    "    '''\n",
    "    Title: Create City & County Directories\n",
    "    Description: This will create the City & County Diretories.\n",
    "    nameList: This the list of names for directories to create.\n",
    "    '''\n",
    "\n",
    "    for name in nameList:\n",
    "        # Set full path to a variable\n",
    "        fullPath = name + '/'\n",
    "\n",
    "        dirExists = os.path.exists(fullPath)\n",
    "\n",
    "        # Check if directory already exists\n",
    "        if dirExists == False:\n",
    "            # Create directory\n",
    "            os.mkdir(fullPath)\n",
    "        else:\n",
    "            pass\n",
    "\n",
    "def createAreaDirectories(dataFrame, areaColumn, areaPath):\n",
    "    '''\n",
    "    Title: Create Area Directories\n",
    "    Description: This will create seperate directories for each area in areaColumn.\n",
    "    dataFrame: The dataframe of data that the area columns are in.\n",
    "    areaColumn: The specfic column of places that need directories created.\n",
    "    area_path: The path in which you would like the directories created in.\n",
    "    '''\n",
    "\n",
    "    # Create list of all area names\n",
    "    area_list = dataFrame[dataFrame[areaColumn].notnull()][areaColumn].unique()\n",
    "\n",
    "    bigDirExists = os.path.exists(areaPath)\n",
    "\n",
    "    # Check if directory already exists\n",
    "    if bigDirExists == False:\n",
    "        # Create directory\n",
    "        os.mkdir(areaPath)\n",
    "    else:\n",
    "        pass\n",
    "\n",
    "    for area in area_list:\n",
    "\n",
    "        # Replace / or \" \" with a dash\n",
    "        area = area.replace(\" \", \"-\")\n",
    "        area = area.replace(\"/\",\"-\")\n",
    "\n",
    "        # Set full path to a variable\n",
    "        fullPath = os.path.join(areaPath,area)\n",
    "\n",
    "        # Directory boolean\n",
    "        littleDirExists = os.path.exists(fullPath)\n",
    "\n",
    "        # Check if directory already exists\n",
    "        if littleDirExists == False:\n",
    "            # Create directory\n",
    "            os.mkdir(fullPath)\n",
    "        else:\n",
    "            pass\n",
    "\n",
    "\n",
    "# Create Folders for City and County\n",
    "stl_name_list = ['City','County']\n",
    "\n",
    "# Create City & County Directories\n",
    "createCityCountyDirectores(nameList=stl_name_list)\n",
    "\n",
    "# Create a Folder for each Town\n",
    "createAreaDirectories(dataFrame=stl_df,\n",
    "                      areaColumn='Geo-Town',\n",
    "                      areaPath='Towns/')\n",
    "\n",
    "# Create a Folder for each Village\n",
    "createAreaDirectories(dataFrame=stl_df,\n",
    "                      areaColumn='Geo-Village',\n",
    "                      areaPath='Villages/')\n",
    "\n",
    "# Create a Folder for each Neighborhood\n",
    "createAreaDirectories(dataFrame=stl_df,\n",
    "                      areaColumn='Geo-Neighborhood',\n",
    "                      areaPath='Neighborhoods/')"
   ]
  },
  {
   "cell_type": "markdown",
   "metadata": {},
   "source": [
    "## County & City Visualizations"
   ]
  },
  {
   "cell_type": "markdown",
   "metadata": {},
   "source": [
    "### County & City Pictures"
   ]
  },
  {
   "cell_type": "code",
   "execution_count": null,
   "metadata": {},
   "outputs": [],
   "source": [
    "def createCountyCityPictures(dataFrame, areaColumn, nibrsColumn, zoomLevel, areaPath):\n",
    "    '''\n",
    "    Title: County City Pictures\n",
    "    Description: This will create cover images to use in the website as backgrounds. \n",
    "    The colors are correlated to the amound of crimes and for each area.\n",
    "    dataFrame: The dataframe in which all data is found. \n",
    "    areaColumn: The column name of the area in which you would to create images for.\n",
    "    nibrsColumn: The column name of the type of nibrs information that would be mapped.\n",
    "    areaPath: Path to where these images will be saved.\n",
    "    '''\n",
    "\n",
    "    # Create list of all NeighborHoods\n",
    "    area_list = dataFrame[dataFrame[areaColumn].notnull()][areaColumn].unique()\n",
    "\n",
    "    # For each Neighborhood in the list\n",
    "    for area in area_list:\n",
    "\n",
    "        # Create DataFrame of Neighborhood\n",
    "        area_df = dataFrame[dataFrame[areaColumn] == area].copy()\n",
    "\n",
    "        # Value Count Lists\n",
    "        area_vc = pd.DataFrame(area_df[nibrsColumn].value_counts().reset_index())\n",
    "\n",
    "        # Create dictionary\n",
    "        area_vc_mappings = dict()\n",
    "\n",
    "        # Reverse the order of dataframe\n",
    "        area_vc_reversed = area_vc.iloc[::-1].copy()\n",
    "\n",
    "        # Create Area NIBRS mappings\n",
    "        for i, (offense, counts) in enumerate(zip(area_vc_reversed[nibrsColumn],area_vc_reversed['count'])):\n",
    "            area_vc_mappings.update({f\"{offense}\": counts})\n",
    "\n",
    "        # Map this counts to values in the area_df\n",
    "        area_df['NIBRS-Map'] = area_df[nibrsColumn].map(area_vc_mappings)\n",
    "            \n",
    "        # Geographic Lists\n",
    "        area_latitudes = area_df['Geo-Latitude']\n",
    "        area_longitudes = area_df['Geo-Longitude']\n",
    "                                                  \n",
    "        # Create Geographic Map\n",
    "        mapPlot = go.Figure(go.Scattermapbox(name=f'{areaColumn} Crime Points',   # Chart Name\n",
    "                             lat=area_latitudes,                                  # Latitudes\n",
    "                             lon=area_longitudes,                                 # Longitudes\n",
    "                             showlegend=False,                                    # Don't show legends\n",
    "                             marker=dict(color=area_df['NIBRS-Map'])))            # Hover Information Template     \n",
    "\n",
    "        # Create Layout\n",
    "        mapPlot.update_layout(height= 900,                                                # Height of Subplot\n",
    "                              width= 1400,                                                # Width of Subplot\n",
    "                              margin={\"r\":0,\"t\":0,\"l\":0,\"b\":0},                           # Margin values right, top, left, bottom                  \n",
    "                              autosize=True,                                              # Set Autosize of charts to True or False\n",
    "                              template='plotly_dark',                                     # Template of Subplot\n",
    "                              mapbox=dict(zoom=zoomLevel,                                 # Zoom of Map\n",
    "                                          pitch=0,                                        # Pitch of Map\n",
    "                                          bearing=0,                                      # Bearing of Map\n",
    "                                          style=map_theme,                                # Theme of Scatter Map\n",
    "                                          center=dict(lat=np.mean(area_latitudes),        # Mean of Area Latitudes\n",
    "                                                      lon=np.mean(area_longitudes))))     # Mean of Area Longitudes\n",
    "        \n",
    "        # Replace / or \" \" with a dash\n",
    "        area = area.replace(\" \", \"-\")\n",
    "        area = area.replace(\"/\",\"-\")\n",
    "\n",
    "        coverImagePath = f'CoverImage-2023-{area}.jpeg'\n",
    "        areaFullPath = f'{areaPath}'\n",
    "\n",
    "        finalPath = os.path.join(areaFullPath,coverImagePath)\n",
    "\n",
    "        # Save Image\n",
    "        mapPlot.write_image(finalPath)\n",
    "\n",
    "    # Show successful creation\n",
    "    print(f'[SUCCESS] Area Pictures Created for {areaColumn}!')\n",
    "\n",
    "# Create Scatter Maps\n",
    "createCountyCityPictures(dataFrame=stl_city_df,           # DataFrame       \n",
    "                           areaColumn='Geo-County',       # Column of Area            \n",
    "                           nibrsColumn='NIBRS-Offense',   # NIBRS Crime Column                           \n",
    "                           zoomLevel=10.7,                # Zoom Level           \n",
    "                           areaPath='City/')              # Path to directory          \n",
    "\n",
    "createCountyCityPictures(dataFrame=stl_county_df,         # DataFrame        \n",
    "                           areaColumn='Geo-County',       # Column of Area            \n",
    "                           nibrsColumn='NIBRS-Offense',   # NIBRS Crime Column                     \n",
    "                           zoomLevel=9.8,                 # Zoom Level                  \n",
    "                           areaPath='County/')            # Path to directory              \n"
   ]
  },
  {
   "cell_type": "markdown",
   "metadata": {},
   "source": [
    "### Density Maps"
   ]
  },
  {
   "cell_type": "code",
   "execution_count": null,
   "metadata": {},
   "outputs": [],
   "source": [
    "def createCountyCityDensityMap(dataFrame, areaColumn, zoomLevel, areaPath):\n",
    "    '''\n",
    "    Title: Create County & City Denisty Map\n",
    "    Description: This function will create Area Denisty Maps to show where \n",
    "    crime is most common, but correlating with the other crime around them.\n",
    "    dataFrame: The dataframe in which all data is found. \n",
    "    areaColumn: The column name of the area in which you would to create images for.\n",
    "    zoomLevel: The zoom number to see the mapped points.\n",
    "    areaPath: Path to where these images will be saved.\n",
    "    '''\n",
    "\n",
    "    # Create list of all NeighborHoods\n",
    "    area_list = dataFrame[dataFrame[areaColumn].notnull()][areaColumn].unique()\n",
    "\n",
    "    # For each Neighborhood in the list\n",
    "    for area in area_list:\n",
    "\n",
    "        # Create DataFrame of Neighborhood\n",
    "        area_df = dataFrame[dataFrame[areaColumn] == area].copy()\n",
    "            \n",
    "        # Geographic Lists\n",
    "        area_latitudes = area_df['Geo-Latitude']\n",
    "        area_longitudes = area_df['Geo-Longitude']\n",
    "                                                  \n",
    "        # Create Density Plot\n",
    "        densityPlot = go.Figure(go.Densitymapbox(name='Crime Density Map',   # Denisty Map Name             \n",
    "                                                 lat=area_latitudes,         # Latitude values          \n",
    "                                                 lon=area_longitudes,        # Longitude values       \n",
    "                                                 radius=2))                 # Radius\n",
    "\n",
    "        # Create Layout\n",
    "        densityPlot.update_layout(height= 900,                                              # Height of Subplot\n",
    "                                  width= 1400,                                                # Width of Subplot\n",
    "                                  margin={\"r\":0,\"t\":0,\"l\":0,\"b\":0},                           # Margin values right, top, left, bottom                  \n",
    "                                  autosize=True,                                              # Set Autosize of charts to True or False\n",
    "                                  template='plotly_dark',                                     # Template of Subplot\n",
    "                                  mapbox=dict(zoom=zoomLevel,                                 # Zoom of Map\n",
    "                                              pitch=0,                                        # Pitch of Map\n",
    "                                              bearing=0,                                      # Bearing of Map\n",
    "                                              style=map_theme,                                # Theme of Scatter Map\n",
    "                                              center=dict(lat=np.mean(area_latitudes),        # Mean of Area Latitudes\n",
    "                                                          lon=np.mean(area_longitudes))))     # Mean of Area Longitudes\n",
    "\n",
    "        # Replace / or \" \" with a dash\n",
    "        area = area.replace(\" \", \"-\")\n",
    "        area = area.replace(\"/\",\"-\")\n",
    "\n",
    "        # Set Path Information\n",
    "        coverImagePath = f'DensityMap-2023-{area}.html'\n",
    "        areaFullPath = f'{areaPath}'\n",
    "\n",
    "        # Set final path to save\n",
    "        finalPath = os.path.join(areaFullPath,coverImagePath)\n",
    "\n",
    "        densityPlot.show()\n",
    "\n",
    "        # Save image\n",
    "        densityPlot.write_html(finalPath)\n",
    "    \n",
    "    # Show successful creation\n",
    "    print(f'[SUCCESS] Area Density Maps are Created for {areaColumn}!')\n",
    "\n",
    "# Create & Save Density Maps\n",
    "createCountyCityDensityMap(dataFrame=stl_city_df,     # DataFrame\n",
    "                           areaColumn='Geo-County',   # Column of Area\n",
    "                           zoomLevel=11,              # Zoom Level        \n",
    "                           areaPath='City/')          # Path to directory\n",
    "\n",
    "createCountyCityDensityMap(dataFrame=stl_county_df,   # DataFrame\n",
    "                           areaColumn='Geo-County',   # Column of Area\n",
    "                           zoomLevel=10,              # Zoom Level    \n",
    "                           areaPath='County/')        # Path to directory"
   ]
  },
  {
   "cell_type": "markdown",
   "metadata": {},
   "source": [
    "### Scatter Maps"
   ]
  },
  {
   "cell_type": "code",
   "execution_count": 4,
   "metadata": {},
   "outputs": [
    {
     "name": "stdout",
     "output_type": "stream",
     "text": [
      "[SUCCESS] Area Scatter Maps are Created for Geo-County!\n",
      "[SUCCESS] Area Scatter Maps are Created for Geo-County!\n"
     ]
    }
   ],
   "source": [
    "def createCountyCityScatterMap(dataFrame, areaColumn, nibrsColumn, zoomLevel, areaPath):\n",
    "    '''\n",
    "    Title: Create County & City Scatter Maps\n",
    "    Description: This function creates a scatter map of all the latitudes and longitudes\n",
    "    correlating to the color of how many crime points there are.\n",
    "    dataFrame: The dataframe in which all data is found. \n",
    "    areaColumn: The column name of the area in which you would to create images for.\n",
    "    zoomLevel: The zoom number to see the mapped points.\n",
    "    areaPath: Path to where these images will be saved.\n",
    "    '''\n",
    "\n",
    "    # Create list of all NeighborHoods\n",
    "    area_list = dataFrame[dataFrame[areaColumn].notnull()][areaColumn].unique()\n",
    "\n",
    "    # For each Neighborhood in the list\n",
    "    for area in area_list:\n",
    "\n",
    "        # Create DataFrame of Neighborhood\n",
    "        area_df = dataFrame[dataFrame[areaColumn] == area].copy()\n",
    "\n",
    "        # Value Count Lists\n",
    "        area_vc = pd.DataFrame(area_df[nibrsColumn].value_counts().reset_index())\n",
    "        area_vc_mappings = dict()\n",
    "        area_vc_reversed = area_vc.iloc[::-1].copy()\n",
    "\n",
    "        # Create Area NIBRS mappings\n",
    "        for i, (offense, counts) in enumerate(zip(area_vc_reversed[nibrsColumn],area_vc_reversed['count'])):\n",
    "            area_vc_mappings.update({f\"{offense}\": counts})\n",
    "\n",
    "        # Map this counts to values in the area_df\n",
    "        area_df['NIBRS-Map'] = area_df[nibrsColumn].map(area_vc_mappings)\n",
    "\n",
    "        # Geographic Lists\n",
    "        area_latitudes = area_df['Geo-Latitude']\n",
    "        area_longitudes = area_df['Geo-Longitude']\n",
    "\n",
    "        # hovertempletes\n",
    "        area_hover = areaColumn + ':' + '%{customdata[0]}'\n",
    "        nibrs_hover = nibrsColumn + ':' + '%{customdata[1]}'\n",
    "\n",
    "        # Create Scatter Map Base Plot\n",
    "        scatterMap = go.Figure(go.Scattermapbox())\n",
    "\n",
    "        # Create list of Colors that correlate to continuous color values like other charts\n",
    "        markerColors = px.colors.sample_colorscale('plasma',                                             # Color palette list\n",
    "                                                   samplepoints=area_vc['count']/area_vc['count'].max())   # The range of point from min-max\n",
    "\n",
    "        # Create Counter\n",
    "        i=0\n",
    "\n",
    "        # Add each unique NIBRS column value to the scatter map in correlating colors\n",
    "        for nibrsName in area_vc[nibrsColumn].unique():\n",
    "            \n",
    "            # Create that nibrs column value as it owns dataframe\n",
    "            nibs_df = area_df[area_df[nibrsColumn] == nibrsName]\n",
    "            \n",
    "            # Create each trace of Points\n",
    "            scatterMap.add_trace(go.Scattermapbox(visible=True,                                             # Make sure all points are visible\n",
    "                                                  name=nibrsName,                                           # Value of NIBRS for legend corrlation\n",
    "                                                  mode=\"markers\",                                           # Set mode to markers\n",
    "                                                  lat=nibs_df['Geo-Latitude'],                              # Latitude Points\n",
    "                                                  lon=nibs_df['Geo-Longitude'],                             # Longitude Points\n",
    "                                                  marker=dict(color=f'{markerColors[i]}'),                  # Set the color of each point\n",
    "                                                  customdata=nibs_df[[areaColumn, nibrsColumn]],            # Custom Data Columns for Hover\n",
    "                                                  hovertemplate=\"<br>\".join([area_hover, nibrs_hover])))    # Hover value structure\n",
    "            \n",
    "            # Add to counter\n",
    "            i = i+1\n",
    "\n",
    "        # Update ScatterMap Layout\n",
    "        scatterMap.update_layout(height= 900,                                                   # Height of Subplot\n",
    "                                 width= 1400,                                                   # Width of Subplot\n",
    "                                 margin={\"r\":0,\"t\":0,\"l\":0,\"b\":0},                              # Margin values right, top, left, bottom                  \n",
    "                                 autosize=True,                                                 # Set Autosize of charts to True or False\n",
    "                                 template='plotly_dark',                                        # Template of Subplot\n",
    "                                 legend=dict(title=f'{nibrsColumn}'),                           # Legend title\n",
    "                                 mapbox=dict(zoom=zoomLevel,                                    # Zoom of Map\n",
    "                                                pitch=0,                                        # Pitch of Map\n",
    "                                                bearing=0,                                      # Bearing of Map\n",
    "                                                style=map_theme,                                # Theme of Scatter Map\n",
    "                                                center=dict(lat=np.mean(area_latitudes),        # Mean of Area Latitudes\n",
    "                                                            lon=np.mean(area_longitudes))))     # Mean of Area Longitudes    # Mean of Area Longitudes\n",
    "        \n",
    "        # Add Geographical Data Quality Annotation\n",
    "        scatterMap.add_annotation(dict(y=0.01,                                             # y position \n",
    "                                       x=0.01,                                             # X position \n",
    "                                       yref=\"paper\",                                       # set y reference to paper\n",
    "                                       xref=\"paper\",                                       # Set X reference to paper\n",
    "                                       xanchor='left',                                     # Set x anchor\n",
    "                                       showarrow=False,                                    # Don't show arrow\n",
    "                                       textangle=0,                                        # Angle of Title\n",
    "                                       font=dict(color='grey',                             # Font color\n",
    "                                                 size=8),                                  # Font size\n",
    "                                       text=f\"Geographical Data has accuracy of 99%\"))     # Title of Annotation\n",
    "    \n",
    "\n",
    "        # Replace / or \" \" with a dash\n",
    "        area = area.replace(\" \", \"-\")\n",
    "        area = area.replace(\"/\",\"-\")\n",
    "\n",
    "        # Create Path information\n",
    "        coverImagePath = f'ScatterMap-2023-({nibrsColumn})-{area}.html'\n",
    "        areaFullPath = f'{areaPath}'\n",
    "        \n",
    "        # Set the full path\n",
    "        finalPath = os.path.join(areaFullPath,coverImagePath)\n",
    "\n",
    "        # Save HTML\n",
    "        scatterMap.write_html(finalPath)\n",
    "\n",
    "    # Show successful creation\n",
    "    print(f'[SUCCESS] Area Scatter Maps are Created for {areaColumn}!')\n",
    "\n",
    "# Create Scatter Maps\n",
    "createCountyCityScatterMap(dataFrame=stl_city_df,                  # DataFrame                 \n",
    "                           areaColumn='Geo-County',                # Area Column           \n",
    "                           nibrsColumn='NIBRS-Offense',            # NIBRS Column                 \n",
    "                           zoomLevel=10.7,                         # Zoom Level value  \n",
    "                           areaPath='City/')                       # Directory location        \n",
    "\n",
    "createCountyCityScatterMap(dataFrame=stl_county_df,                # DataFrame                              \n",
    "                           areaColumn='Geo-County',                # Area Column                          \n",
    "                           nibrsColumn='NIBRS-Offense',            # NIBRS Column                                      \n",
    "                           zoomLevel=9.8,                          # Zoom Level value             \n",
    "                           areaPath='County/')                     # Directory location \n",
    "\n",
    "createCountyCityScatterMap(dataFrame=stl_city_df,                  # DataFrame                 \n",
    "                           areaColumn='Geo-County',                # Area Column           \n",
    "                           nibrsColumn='NIBRS-Offense-Category',   # NIBRS Column                 \n",
    "                           zoomLevel=10.7,                         # Zoom Level value  \n",
    "                           areaPath='City/')                       # Directory location        \n",
    "\n",
    "createCountyCityScatterMap(dataFrame=stl_county_df,                # DataFrame                              \n",
    "                           areaColumn='Geo-County',                # Area Column                          \n",
    "                           nibrsColumn='NIBRS-Offense-Category',   # NIBRS Column                                      \n",
    "                           zoomLevel=9.8,                          # Zoom Level value             \n",
    "                           areaPath='County/')                     # Directory location                   "
   ]
  },
  {
   "cell_type": "markdown",
   "metadata": {},
   "source": [
    "### Bar Charts"
   ]
  },
  {
   "cell_type": "code",
   "execution_count": 13,
   "metadata": {},
   "outputs": [
    {
     "data": {
      "application/vnd.plotly.v1+json": {
       "config": {
        "plotlyServerURL": "https://plot.ly"
       },
       "data": [
        {
         "marker": {
          "color": [
           9441,
           8803,
           6292,
           4525,
           4455,
           2939,
           2555,
           2184,
           2092,
           1767,
           1501,
           1277,
           1012,
           972,
           967,
           811,
           725,
           606,
           296,
           253,
           220,
           201,
           179,
           161,
           151,
           146,
           103,
           98,
           90,
           84,
           81,
           68,
           54,
           54,
           53,
           40,
           28,
           23,
           18,
           18,
           15,
           7,
           6,
           6,
           2,
           2,
           2,
           1,
           1,
           1
          ]
         },
         "name": "Total Crime by NIBRS-Offense",
         "orientation": "h",
         "showlegend": false,
         "text": [
          9441,
          8803,
          6292,
          4525,
          4455,
          2939,
          2555,
          2184,
          2092,
          1767,
          1501,
          1277,
          1012,
          972,
          967,
          811,
          725,
          606,
          296,
          253,
          220,
          201,
          179,
          161,
          151,
          146,
          103,
          98,
          90,
          84,
          81,
          68,
          54,
          54,
          53,
          40,
          28,
          23,
          18,
          18,
          15,
          7,
          6,
          6,
          2,
          2,
          2,
          1,
          1,
          1
         ],
         "type": "bar",
         "x": [
          9441,
          8803,
          6292,
          4525,
          4455,
          2939,
          2555,
          2184,
          2092,
          1767,
          1501,
          1277,
          1012,
          972,
          967,
          811,
          725,
          606,
          296,
          253,
          220,
          201,
          179,
          161,
          151,
          146,
          103,
          98,
          90,
          84,
          81,
          68,
          54,
          54,
          53,
          40,
          28,
          23,
          18,
          18,
          15,
          7,
          6,
          6,
          2,
          2,
          2,
          1,
          1,
          1
         ],
         "y": [
          "Destruction/Damage/Vandalism of Property",
          "All Other Offenses",
          "Motor Vehicle Theft",
          "Theft From Motor Vehicle",
          "Weapon Law Violations",
          "Simple Assault",
          "Aggravated Assault",
          "All Other Larceny",
          "Burglary/Breaking & Entering",
          "Theft of Motor Vehicle Parts or Accessories",
          "Theft From Building",
          "Drug/Narcotic Violations",
          "Trespass of Real Property",
          "Stolen Property Offenses",
          "Disorderly Conduct",
          "Intimidation",
          "Robbery",
          "Shoplifting",
          "Drug Equipment Violations",
          "Counterfeiting/Forgery",
          "Credit Card/Automated Teller Machine Fraud",
          "False Pretenses/Swindle/Confidence Game",
          "Liquor Law Violations",
          "Family Offenses-Nonviolent",
          "Kidnapping/Abduction",
          "Murder & Nonnegligent Manslaughter",
          "Rape",
          "Sodomy",
          "Arson",
          "Identity Theft",
          "Driving Under the Influence",
          "Pocket-picking",
          "Fondling",
          "Purse-snatching",
          "Wire Fraud",
          "Pornography/Obscene Material",
          "Animal Cruelty",
          "Embezzlement",
          "Impersonation",
          "Statutory Rape",
          "Theft From Coin-Operated Machine or Device",
          "Curfew/Loitering/Vagrancy Violations",
          "Justifiable Homicide",
          "Negligent Manslaughter",
          "Human Trafficking-Commercial Sex Acts",
          "Prostitution",
          "Hacking/Computer Invasion",
          "Incest",
          "Bribery",
          "Purchasing Prostitution"
         ]
        }
       ],
       "layout": {
        "annotations": [
         {
          "font": {
           "color": "white",
           "size": 20
          },
          "showarrow": false,
          "text": "Total Crimes: 55387",
          "textangle": 0,
          "x": 0.78,
          "xanchor": "left",
          "xref": "paper",
          "y": 1.05,
          "yref": "paper"
         }
        ],
        "autosize": true,
        "height": 900,
        "margin": {
         "b": 75,
         "l": 0,
         "r": 0,
         "t": 70
        },
        "template": {
         "data": {
          "bar": [
           {
            "error_x": {
             "color": "#f2f5fa"
            },
            "error_y": {
             "color": "#f2f5fa"
            },
            "marker": {
             "line": {
              "color": "rgb(17,17,17)",
              "width": 0.5
             },
             "pattern": {
              "fillmode": "overlay",
              "size": 10,
              "solidity": 0.2
             }
            },
            "type": "bar"
           }
          ],
          "barpolar": [
           {
            "marker": {
             "line": {
              "color": "rgb(17,17,17)",
              "width": 0.5
             },
             "pattern": {
              "fillmode": "overlay",
              "size": 10,
              "solidity": 0.2
             }
            },
            "type": "barpolar"
           }
          ],
          "carpet": [
           {
            "aaxis": {
             "endlinecolor": "#A2B1C6",
             "gridcolor": "#506784",
             "linecolor": "#506784",
             "minorgridcolor": "#506784",
             "startlinecolor": "#A2B1C6"
            },
            "baxis": {
             "endlinecolor": "#A2B1C6",
             "gridcolor": "#506784",
             "linecolor": "#506784",
             "minorgridcolor": "#506784",
             "startlinecolor": "#A2B1C6"
            },
            "type": "carpet"
           }
          ],
          "choropleth": [
           {
            "colorbar": {
             "outlinewidth": 0,
             "ticks": ""
            },
            "type": "choropleth"
           }
          ],
          "contour": [
           {
            "colorbar": {
             "outlinewidth": 0,
             "ticks": ""
            },
            "colorscale": [
             [
              0,
              "#0d0887"
             ],
             [
              0.1111111111111111,
              "#46039f"
             ],
             [
              0.2222222222222222,
              "#7201a8"
             ],
             [
              0.3333333333333333,
              "#9c179e"
             ],
             [
              0.4444444444444444,
              "#bd3786"
             ],
             [
              0.5555555555555556,
              "#d8576b"
             ],
             [
              0.6666666666666666,
              "#ed7953"
             ],
             [
              0.7777777777777778,
              "#fb9f3a"
             ],
             [
              0.8888888888888888,
              "#fdca26"
             ],
             [
              1,
              "#f0f921"
             ]
            ],
            "type": "contour"
           }
          ],
          "contourcarpet": [
           {
            "colorbar": {
             "outlinewidth": 0,
             "ticks": ""
            },
            "type": "contourcarpet"
           }
          ],
          "heatmap": [
           {
            "colorbar": {
             "outlinewidth": 0,
             "ticks": ""
            },
            "colorscale": [
             [
              0,
              "#0d0887"
             ],
             [
              0.1111111111111111,
              "#46039f"
             ],
             [
              0.2222222222222222,
              "#7201a8"
             ],
             [
              0.3333333333333333,
              "#9c179e"
             ],
             [
              0.4444444444444444,
              "#bd3786"
             ],
             [
              0.5555555555555556,
              "#d8576b"
             ],
             [
              0.6666666666666666,
              "#ed7953"
             ],
             [
              0.7777777777777778,
              "#fb9f3a"
             ],
             [
              0.8888888888888888,
              "#fdca26"
             ],
             [
              1,
              "#f0f921"
             ]
            ],
            "type": "heatmap"
           }
          ],
          "heatmapgl": [
           {
            "colorbar": {
             "outlinewidth": 0,
             "ticks": ""
            },
            "colorscale": [
             [
              0,
              "#0d0887"
             ],
             [
              0.1111111111111111,
              "#46039f"
             ],
             [
              0.2222222222222222,
              "#7201a8"
             ],
             [
              0.3333333333333333,
              "#9c179e"
             ],
             [
              0.4444444444444444,
              "#bd3786"
             ],
             [
              0.5555555555555556,
              "#d8576b"
             ],
             [
              0.6666666666666666,
              "#ed7953"
             ],
             [
              0.7777777777777778,
              "#fb9f3a"
             ],
             [
              0.8888888888888888,
              "#fdca26"
             ],
             [
              1,
              "#f0f921"
             ]
            ],
            "type": "heatmapgl"
           }
          ],
          "histogram": [
           {
            "marker": {
             "pattern": {
              "fillmode": "overlay",
              "size": 10,
              "solidity": 0.2
             }
            },
            "type": "histogram"
           }
          ],
          "histogram2d": [
           {
            "colorbar": {
             "outlinewidth": 0,
             "ticks": ""
            },
            "colorscale": [
             [
              0,
              "#0d0887"
             ],
             [
              0.1111111111111111,
              "#46039f"
             ],
             [
              0.2222222222222222,
              "#7201a8"
             ],
             [
              0.3333333333333333,
              "#9c179e"
             ],
             [
              0.4444444444444444,
              "#bd3786"
             ],
             [
              0.5555555555555556,
              "#d8576b"
             ],
             [
              0.6666666666666666,
              "#ed7953"
             ],
             [
              0.7777777777777778,
              "#fb9f3a"
             ],
             [
              0.8888888888888888,
              "#fdca26"
             ],
             [
              1,
              "#f0f921"
             ]
            ],
            "type": "histogram2d"
           }
          ],
          "histogram2dcontour": [
           {
            "colorbar": {
             "outlinewidth": 0,
             "ticks": ""
            },
            "colorscale": [
             [
              0,
              "#0d0887"
             ],
             [
              0.1111111111111111,
              "#46039f"
             ],
             [
              0.2222222222222222,
              "#7201a8"
             ],
             [
              0.3333333333333333,
              "#9c179e"
             ],
             [
              0.4444444444444444,
              "#bd3786"
             ],
             [
              0.5555555555555556,
              "#d8576b"
             ],
             [
              0.6666666666666666,
              "#ed7953"
             ],
             [
              0.7777777777777778,
              "#fb9f3a"
             ],
             [
              0.8888888888888888,
              "#fdca26"
             ],
             [
              1,
              "#f0f921"
             ]
            ],
            "type": "histogram2dcontour"
           }
          ],
          "mesh3d": [
           {
            "colorbar": {
             "outlinewidth": 0,
             "ticks": ""
            },
            "type": "mesh3d"
           }
          ],
          "parcoords": [
           {
            "line": {
             "colorbar": {
              "outlinewidth": 0,
              "ticks": ""
             }
            },
            "type": "parcoords"
           }
          ],
          "pie": [
           {
            "automargin": true,
            "type": "pie"
           }
          ],
          "scatter": [
           {
            "marker": {
             "line": {
              "color": "#283442"
             }
            },
            "type": "scatter"
           }
          ],
          "scatter3d": [
           {
            "line": {
             "colorbar": {
              "outlinewidth": 0,
              "ticks": ""
             }
            },
            "marker": {
             "colorbar": {
              "outlinewidth": 0,
              "ticks": ""
             }
            },
            "type": "scatter3d"
           }
          ],
          "scattercarpet": [
           {
            "marker": {
             "colorbar": {
              "outlinewidth": 0,
              "ticks": ""
             }
            },
            "type": "scattercarpet"
           }
          ],
          "scattergeo": [
           {
            "marker": {
             "colorbar": {
              "outlinewidth": 0,
              "ticks": ""
             }
            },
            "type": "scattergeo"
           }
          ],
          "scattergl": [
           {
            "marker": {
             "line": {
              "color": "#283442"
             }
            },
            "type": "scattergl"
           }
          ],
          "scattermapbox": [
           {
            "marker": {
             "colorbar": {
              "outlinewidth": 0,
              "ticks": ""
             }
            },
            "type": "scattermapbox"
           }
          ],
          "scatterpolar": [
           {
            "marker": {
             "colorbar": {
              "outlinewidth": 0,
              "ticks": ""
             }
            },
            "type": "scatterpolar"
           }
          ],
          "scatterpolargl": [
           {
            "marker": {
             "colorbar": {
              "outlinewidth": 0,
              "ticks": ""
             }
            },
            "type": "scatterpolargl"
           }
          ],
          "scatterternary": [
           {
            "marker": {
             "colorbar": {
              "outlinewidth": 0,
              "ticks": ""
             }
            },
            "type": "scatterternary"
           }
          ],
          "surface": [
           {
            "colorbar": {
             "outlinewidth": 0,
             "ticks": ""
            },
            "colorscale": [
             [
              0,
              "#0d0887"
             ],
             [
              0.1111111111111111,
              "#46039f"
             ],
             [
              0.2222222222222222,
              "#7201a8"
             ],
             [
              0.3333333333333333,
              "#9c179e"
             ],
             [
              0.4444444444444444,
              "#bd3786"
             ],
             [
              0.5555555555555556,
              "#d8576b"
             ],
             [
              0.6666666666666666,
              "#ed7953"
             ],
             [
              0.7777777777777778,
              "#fb9f3a"
             ],
             [
              0.8888888888888888,
              "#fdca26"
             ],
             [
              1,
              "#f0f921"
             ]
            ],
            "type": "surface"
           }
          ],
          "table": [
           {
            "cells": {
             "fill": {
              "color": "#506784"
             },
             "line": {
              "color": "rgb(17,17,17)"
             }
            },
            "header": {
             "fill": {
              "color": "#2a3f5f"
             },
             "line": {
              "color": "rgb(17,17,17)"
             }
            },
            "type": "table"
           }
          ]
         },
         "layout": {
          "annotationdefaults": {
           "arrowcolor": "#f2f5fa",
           "arrowhead": 0,
           "arrowwidth": 1
          },
          "autotypenumbers": "strict",
          "coloraxis": {
           "colorbar": {
            "outlinewidth": 0,
            "ticks": ""
           }
          },
          "colorscale": {
           "diverging": [
            [
             0,
             "#8e0152"
            ],
            [
             0.1,
             "#c51b7d"
            ],
            [
             0.2,
             "#de77ae"
            ],
            [
             0.3,
             "#f1b6da"
            ],
            [
             0.4,
             "#fde0ef"
            ],
            [
             0.5,
             "#f7f7f7"
            ],
            [
             0.6,
             "#e6f5d0"
            ],
            [
             0.7,
             "#b8e186"
            ],
            [
             0.8,
             "#7fbc41"
            ],
            [
             0.9,
             "#4d9221"
            ],
            [
             1,
             "#276419"
            ]
           ],
           "sequential": [
            [
             0,
             "#0d0887"
            ],
            [
             0.1111111111111111,
             "#46039f"
            ],
            [
             0.2222222222222222,
             "#7201a8"
            ],
            [
             0.3333333333333333,
             "#9c179e"
            ],
            [
             0.4444444444444444,
             "#bd3786"
            ],
            [
             0.5555555555555556,
             "#d8576b"
            ],
            [
             0.6666666666666666,
             "#ed7953"
            ],
            [
             0.7777777777777778,
             "#fb9f3a"
            ],
            [
             0.8888888888888888,
             "#fdca26"
            ],
            [
             1,
             "#f0f921"
            ]
           ],
           "sequentialminus": [
            [
             0,
             "#0d0887"
            ],
            [
             0.1111111111111111,
             "#46039f"
            ],
            [
             0.2222222222222222,
             "#7201a8"
            ],
            [
             0.3333333333333333,
             "#9c179e"
            ],
            [
             0.4444444444444444,
             "#bd3786"
            ],
            [
             0.5555555555555556,
             "#d8576b"
            ],
            [
             0.6666666666666666,
             "#ed7953"
            ],
            [
             0.7777777777777778,
             "#fb9f3a"
            ],
            [
             0.8888888888888888,
             "#fdca26"
            ],
            [
             1,
             "#f0f921"
            ]
           ]
          },
          "colorway": [
           "#636efa",
           "#EF553B",
           "#00cc96",
           "#ab63fa",
           "#FFA15A",
           "#19d3f3",
           "#FF6692",
           "#B6E880",
           "#FF97FF",
           "#FECB52"
          ],
          "font": {
           "color": "#f2f5fa"
          },
          "geo": {
           "bgcolor": "rgb(17,17,17)",
           "lakecolor": "rgb(17,17,17)",
           "landcolor": "rgb(17,17,17)",
           "showlakes": true,
           "showland": true,
           "subunitcolor": "#506784"
          },
          "hoverlabel": {
           "align": "left"
          },
          "hovermode": "closest",
          "mapbox": {
           "style": "dark"
          },
          "paper_bgcolor": "rgb(17,17,17)",
          "plot_bgcolor": "rgb(17,17,17)",
          "polar": {
           "angularaxis": {
            "gridcolor": "#506784",
            "linecolor": "#506784",
            "ticks": ""
           },
           "bgcolor": "rgb(17,17,17)",
           "radialaxis": {
            "gridcolor": "#506784",
            "linecolor": "#506784",
            "ticks": ""
           }
          },
          "scene": {
           "xaxis": {
            "backgroundcolor": "rgb(17,17,17)",
            "gridcolor": "#506784",
            "gridwidth": 2,
            "linecolor": "#506784",
            "showbackground": true,
            "ticks": "",
            "zerolinecolor": "#C8D4E3"
           },
           "yaxis": {
            "backgroundcolor": "rgb(17,17,17)",
            "gridcolor": "#506784",
            "gridwidth": 2,
            "linecolor": "#506784",
            "showbackground": true,
            "ticks": "",
            "zerolinecolor": "#C8D4E3"
           },
           "zaxis": {
            "backgroundcolor": "rgb(17,17,17)",
            "gridcolor": "#506784",
            "gridwidth": 2,
            "linecolor": "#506784",
            "showbackground": true,
            "ticks": "",
            "zerolinecolor": "#C8D4E3"
           }
          },
          "shapedefaults": {
           "line": {
            "color": "#f2f5fa"
           }
          },
          "sliderdefaults": {
           "bgcolor": "#C8D4E3",
           "bordercolor": "rgb(17,17,17)",
           "borderwidth": 1,
           "tickwidth": 0
          },
          "ternary": {
           "aaxis": {
            "gridcolor": "#506784",
            "linecolor": "#506784",
            "ticks": ""
           },
           "baxis": {
            "gridcolor": "#506784",
            "linecolor": "#506784",
            "ticks": ""
           },
           "bgcolor": "rgb(17,17,17)",
           "caxis": {
            "gridcolor": "#506784",
            "linecolor": "#506784",
            "ticks": ""
           }
          },
          "title": {
           "x": 0.05
          },
          "updatemenudefaults": {
           "bgcolor": "#506784",
           "borderwidth": 0
          },
          "xaxis": {
           "automargin": true,
           "gridcolor": "#283442",
           "linecolor": "#506784",
           "ticks": "",
           "title": {
            "standoff": 15
           },
           "zerolinecolor": "#283442",
           "zerolinewidth": 2
          },
          "yaxis": {
           "automargin": true,
           "gridcolor": "#283442",
           "linecolor": "#506784",
           "ticks": "",
           "title": {
            "standoff": 15
           },
           "zerolinecolor": "#283442",
           "zerolinewidth": 2
          }
         }
        },
        "title": {
         "font": {
          "size": 30
         },
         "text": "2023 Saint-Louis City NIBRS-Offense Crime Totals"
        },
        "width": 1400,
        "xaxis": {
         "title": {
          "font": {
           "size": 20
          },
          "text": "Amount"
         }
        },
        "yaxis": {
         "autorange": "reversed",
         "title": {
          "font": {
           "size": 20
          },
          "text": "NIBRS-Offense"
         }
        }
       }
      },
      "text/html": [
       "<div>                            <div id=\"6700ccf6-d647-41dd-9da2-bb9151ad74d5\" class=\"plotly-graph-div\" style=\"height:900px; width:1400px;\"></div>            <script type=\"text/javascript\">                require([\"plotly\"], function(Plotly) {                    window.PLOTLYENV=window.PLOTLYENV || {};                                    if (document.getElementById(\"6700ccf6-d647-41dd-9da2-bb9151ad74d5\")) {                    Plotly.newPlot(                        \"6700ccf6-d647-41dd-9da2-bb9151ad74d5\",                        [{\"marker\":{\"color\":[9441,8803,6292,4525,4455,2939,2555,2184,2092,1767,1501,1277,1012,972,967,811,725,606,296,253,220,201,179,161,151,146,103,98,90,84,81,68,54,54,53,40,28,23,18,18,15,7,6,6,2,2,2,1,1,1]},\"name\":\"Total Crime by NIBRS-Offense\",\"orientation\":\"h\",\"showlegend\":false,\"text\":[9441.0,8803.0,6292.0,4525.0,4455.0,2939.0,2555.0,2184.0,2092.0,1767.0,1501.0,1277.0,1012.0,972.0,967.0,811.0,725.0,606.0,296.0,253.0,220.0,201.0,179.0,161.0,151.0,146.0,103.0,98.0,90.0,84.0,81.0,68.0,54.0,54.0,53.0,40.0,28.0,23.0,18.0,18.0,15.0,7.0,6.0,6.0,2.0,2.0,2.0,1.0,1.0,1.0],\"x\":[9441,8803,6292,4525,4455,2939,2555,2184,2092,1767,1501,1277,1012,972,967,811,725,606,296,253,220,201,179,161,151,146,103,98,90,84,81,68,54,54,53,40,28,23,18,18,15,7,6,6,2,2,2,1,1,1],\"y\":[\"Destruction\\u002fDamage\\u002fVandalism of Property\",\"All Other Offenses\",\"Motor Vehicle Theft\",\"Theft From Motor Vehicle\",\"Weapon Law Violations\",\"Simple Assault\",\"Aggravated Assault\",\"All Other Larceny\",\"Burglary\\u002fBreaking & Entering\",\"Theft of Motor Vehicle Parts or Accessories\",\"Theft From Building\",\"Drug\\u002fNarcotic Violations\",\"Trespass of Real Property\",\"Stolen Property Offenses\",\"Disorderly Conduct\",\"Intimidation\",\"Robbery\",\"Shoplifting\",\"Drug Equipment Violations\",\"Counterfeiting\\u002fForgery\",\"Credit Card\\u002fAutomated Teller Machine Fraud\",\"False Pretenses\\u002fSwindle\\u002fConfidence Game\",\"Liquor Law Violations\",\"Family Offenses-Nonviolent\",\"Kidnapping\\u002fAbduction\",\"Murder & Nonnegligent Manslaughter\",\"Rape\",\"Sodomy\",\"Arson\",\"Identity Theft\",\"Driving Under the Influence\",\"Pocket-picking\",\"Fondling\",\"Purse-snatching\",\"Wire Fraud\",\"Pornography\\u002fObscene Material\",\"Animal Cruelty\",\"Embezzlement\",\"Impersonation\",\"Statutory Rape\",\"Theft From Coin-Operated Machine or Device\",\"Curfew\\u002fLoitering\\u002fVagrancy Violations\",\"Justifiable Homicide\",\"Negligent Manslaughter\",\"Human Trafficking-Commercial Sex Acts\",\"Prostitution\",\"Hacking\\u002fComputer Invasion\",\"Incest\",\"Bribery\",\"Purchasing Prostitution\"],\"type\":\"bar\"}],                        {\"template\":{\"data\":{\"barpolar\":[{\"marker\":{\"line\":{\"color\":\"rgb(17,17,17)\",\"width\":0.5},\"pattern\":{\"fillmode\":\"overlay\",\"size\":10,\"solidity\":0.2}},\"type\":\"barpolar\"}],\"bar\":[{\"error_x\":{\"color\":\"#f2f5fa\"},\"error_y\":{\"color\":\"#f2f5fa\"},\"marker\":{\"line\":{\"color\":\"rgb(17,17,17)\",\"width\":0.5},\"pattern\":{\"fillmode\":\"overlay\",\"size\":10,\"solidity\":0.2}},\"type\":\"bar\"}],\"carpet\":[{\"aaxis\":{\"endlinecolor\":\"#A2B1C6\",\"gridcolor\":\"#506784\",\"linecolor\":\"#506784\",\"minorgridcolor\":\"#506784\",\"startlinecolor\":\"#A2B1C6\"},\"baxis\":{\"endlinecolor\":\"#A2B1C6\",\"gridcolor\":\"#506784\",\"linecolor\":\"#506784\",\"minorgridcolor\":\"#506784\",\"startlinecolor\":\"#A2B1C6\"},\"type\":\"carpet\"}],\"choropleth\":[{\"colorbar\":{\"outlinewidth\":0,\"ticks\":\"\"},\"type\":\"choropleth\"}],\"contourcarpet\":[{\"colorbar\":{\"outlinewidth\":0,\"ticks\":\"\"},\"type\":\"contourcarpet\"}],\"contour\":[{\"colorbar\":{\"outlinewidth\":0,\"ticks\":\"\"},\"colorscale\":[[0.0,\"#0d0887\"],[0.1111111111111111,\"#46039f\"],[0.2222222222222222,\"#7201a8\"],[0.3333333333333333,\"#9c179e\"],[0.4444444444444444,\"#bd3786\"],[0.5555555555555556,\"#d8576b\"],[0.6666666666666666,\"#ed7953\"],[0.7777777777777778,\"#fb9f3a\"],[0.8888888888888888,\"#fdca26\"],[1.0,\"#f0f921\"]],\"type\":\"contour\"}],\"heatmapgl\":[{\"colorbar\":{\"outlinewidth\":0,\"ticks\":\"\"},\"colorscale\":[[0.0,\"#0d0887\"],[0.1111111111111111,\"#46039f\"],[0.2222222222222222,\"#7201a8\"],[0.3333333333333333,\"#9c179e\"],[0.4444444444444444,\"#bd3786\"],[0.5555555555555556,\"#d8576b\"],[0.6666666666666666,\"#ed7953\"],[0.7777777777777778,\"#fb9f3a\"],[0.8888888888888888,\"#fdca26\"],[1.0,\"#f0f921\"]],\"type\":\"heatmapgl\"}],\"heatmap\":[{\"colorbar\":{\"outlinewidth\":0,\"ticks\":\"\"},\"colorscale\":[[0.0,\"#0d0887\"],[0.1111111111111111,\"#46039f\"],[0.2222222222222222,\"#7201a8\"],[0.3333333333333333,\"#9c179e\"],[0.4444444444444444,\"#bd3786\"],[0.5555555555555556,\"#d8576b\"],[0.6666666666666666,\"#ed7953\"],[0.7777777777777778,\"#fb9f3a\"],[0.8888888888888888,\"#fdca26\"],[1.0,\"#f0f921\"]],\"type\":\"heatmap\"}],\"histogram2dcontour\":[{\"colorbar\":{\"outlinewidth\":0,\"ticks\":\"\"},\"colorscale\":[[0.0,\"#0d0887\"],[0.1111111111111111,\"#46039f\"],[0.2222222222222222,\"#7201a8\"],[0.3333333333333333,\"#9c179e\"],[0.4444444444444444,\"#bd3786\"],[0.5555555555555556,\"#d8576b\"],[0.6666666666666666,\"#ed7953\"],[0.7777777777777778,\"#fb9f3a\"],[0.8888888888888888,\"#fdca26\"],[1.0,\"#f0f921\"]],\"type\":\"histogram2dcontour\"}],\"histogram2d\":[{\"colorbar\":{\"outlinewidth\":0,\"ticks\":\"\"},\"colorscale\":[[0.0,\"#0d0887\"],[0.1111111111111111,\"#46039f\"],[0.2222222222222222,\"#7201a8\"],[0.3333333333333333,\"#9c179e\"],[0.4444444444444444,\"#bd3786\"],[0.5555555555555556,\"#d8576b\"],[0.6666666666666666,\"#ed7953\"],[0.7777777777777778,\"#fb9f3a\"],[0.8888888888888888,\"#fdca26\"],[1.0,\"#f0f921\"]],\"type\":\"histogram2d\"}],\"histogram\":[{\"marker\":{\"pattern\":{\"fillmode\":\"overlay\",\"size\":10,\"solidity\":0.2}},\"type\":\"histogram\"}],\"mesh3d\":[{\"colorbar\":{\"outlinewidth\":0,\"ticks\":\"\"},\"type\":\"mesh3d\"}],\"parcoords\":[{\"line\":{\"colorbar\":{\"outlinewidth\":0,\"ticks\":\"\"}},\"type\":\"parcoords\"}],\"pie\":[{\"automargin\":true,\"type\":\"pie\"}],\"scatter3d\":[{\"line\":{\"colorbar\":{\"outlinewidth\":0,\"ticks\":\"\"}},\"marker\":{\"colorbar\":{\"outlinewidth\":0,\"ticks\":\"\"}},\"type\":\"scatter3d\"}],\"scattercarpet\":[{\"marker\":{\"colorbar\":{\"outlinewidth\":0,\"ticks\":\"\"}},\"type\":\"scattercarpet\"}],\"scattergeo\":[{\"marker\":{\"colorbar\":{\"outlinewidth\":0,\"ticks\":\"\"}},\"type\":\"scattergeo\"}],\"scattergl\":[{\"marker\":{\"line\":{\"color\":\"#283442\"}},\"type\":\"scattergl\"}],\"scattermapbox\":[{\"marker\":{\"colorbar\":{\"outlinewidth\":0,\"ticks\":\"\"}},\"type\":\"scattermapbox\"}],\"scatterpolargl\":[{\"marker\":{\"colorbar\":{\"outlinewidth\":0,\"ticks\":\"\"}},\"type\":\"scatterpolargl\"}],\"scatterpolar\":[{\"marker\":{\"colorbar\":{\"outlinewidth\":0,\"ticks\":\"\"}},\"type\":\"scatterpolar\"}],\"scatter\":[{\"marker\":{\"line\":{\"color\":\"#283442\"}},\"type\":\"scatter\"}],\"scatterternary\":[{\"marker\":{\"colorbar\":{\"outlinewidth\":0,\"ticks\":\"\"}},\"type\":\"scatterternary\"}],\"surface\":[{\"colorbar\":{\"outlinewidth\":0,\"ticks\":\"\"},\"colorscale\":[[0.0,\"#0d0887\"],[0.1111111111111111,\"#46039f\"],[0.2222222222222222,\"#7201a8\"],[0.3333333333333333,\"#9c179e\"],[0.4444444444444444,\"#bd3786\"],[0.5555555555555556,\"#d8576b\"],[0.6666666666666666,\"#ed7953\"],[0.7777777777777778,\"#fb9f3a\"],[0.8888888888888888,\"#fdca26\"],[1.0,\"#f0f921\"]],\"type\":\"surface\"}],\"table\":[{\"cells\":{\"fill\":{\"color\":\"#506784\"},\"line\":{\"color\":\"rgb(17,17,17)\"}},\"header\":{\"fill\":{\"color\":\"#2a3f5f\"},\"line\":{\"color\":\"rgb(17,17,17)\"}},\"type\":\"table\"}]},\"layout\":{\"annotationdefaults\":{\"arrowcolor\":\"#f2f5fa\",\"arrowhead\":0,\"arrowwidth\":1},\"autotypenumbers\":\"strict\",\"coloraxis\":{\"colorbar\":{\"outlinewidth\":0,\"ticks\":\"\"}},\"colorscale\":{\"diverging\":[[0,\"#8e0152\"],[0.1,\"#c51b7d\"],[0.2,\"#de77ae\"],[0.3,\"#f1b6da\"],[0.4,\"#fde0ef\"],[0.5,\"#f7f7f7\"],[0.6,\"#e6f5d0\"],[0.7,\"#b8e186\"],[0.8,\"#7fbc41\"],[0.9,\"#4d9221\"],[1,\"#276419\"]],\"sequential\":[[0.0,\"#0d0887\"],[0.1111111111111111,\"#46039f\"],[0.2222222222222222,\"#7201a8\"],[0.3333333333333333,\"#9c179e\"],[0.4444444444444444,\"#bd3786\"],[0.5555555555555556,\"#d8576b\"],[0.6666666666666666,\"#ed7953\"],[0.7777777777777778,\"#fb9f3a\"],[0.8888888888888888,\"#fdca26\"],[1.0,\"#f0f921\"]],\"sequentialminus\":[[0.0,\"#0d0887\"],[0.1111111111111111,\"#46039f\"],[0.2222222222222222,\"#7201a8\"],[0.3333333333333333,\"#9c179e\"],[0.4444444444444444,\"#bd3786\"],[0.5555555555555556,\"#d8576b\"],[0.6666666666666666,\"#ed7953\"],[0.7777777777777778,\"#fb9f3a\"],[0.8888888888888888,\"#fdca26\"],[1.0,\"#f0f921\"]]},\"colorway\":[\"#636efa\",\"#EF553B\",\"#00cc96\",\"#ab63fa\",\"#FFA15A\",\"#19d3f3\",\"#FF6692\",\"#B6E880\",\"#FF97FF\",\"#FECB52\"],\"font\":{\"color\":\"#f2f5fa\"},\"geo\":{\"bgcolor\":\"rgb(17,17,17)\",\"lakecolor\":\"rgb(17,17,17)\",\"landcolor\":\"rgb(17,17,17)\",\"showlakes\":true,\"showland\":true,\"subunitcolor\":\"#506784\"},\"hoverlabel\":{\"align\":\"left\"},\"hovermode\":\"closest\",\"mapbox\":{\"style\":\"dark\"},\"paper_bgcolor\":\"rgb(17,17,17)\",\"plot_bgcolor\":\"rgb(17,17,17)\",\"polar\":{\"angularaxis\":{\"gridcolor\":\"#506784\",\"linecolor\":\"#506784\",\"ticks\":\"\"},\"bgcolor\":\"rgb(17,17,17)\",\"radialaxis\":{\"gridcolor\":\"#506784\",\"linecolor\":\"#506784\",\"ticks\":\"\"}},\"scene\":{\"xaxis\":{\"backgroundcolor\":\"rgb(17,17,17)\",\"gridcolor\":\"#506784\",\"gridwidth\":2,\"linecolor\":\"#506784\",\"showbackground\":true,\"ticks\":\"\",\"zerolinecolor\":\"#C8D4E3\"},\"yaxis\":{\"backgroundcolor\":\"rgb(17,17,17)\",\"gridcolor\":\"#506784\",\"gridwidth\":2,\"linecolor\":\"#506784\",\"showbackground\":true,\"ticks\":\"\",\"zerolinecolor\":\"#C8D4E3\"},\"zaxis\":{\"backgroundcolor\":\"rgb(17,17,17)\",\"gridcolor\":\"#506784\",\"gridwidth\":2,\"linecolor\":\"#506784\",\"showbackground\":true,\"ticks\":\"\",\"zerolinecolor\":\"#C8D4E3\"}},\"shapedefaults\":{\"line\":{\"color\":\"#f2f5fa\"}},\"sliderdefaults\":{\"bgcolor\":\"#C8D4E3\",\"bordercolor\":\"rgb(17,17,17)\",\"borderwidth\":1,\"tickwidth\":0},\"ternary\":{\"aaxis\":{\"gridcolor\":\"#506784\",\"linecolor\":\"#506784\",\"ticks\":\"\"},\"baxis\":{\"gridcolor\":\"#506784\",\"linecolor\":\"#506784\",\"ticks\":\"\"},\"bgcolor\":\"rgb(17,17,17)\",\"caxis\":{\"gridcolor\":\"#506784\",\"linecolor\":\"#506784\",\"ticks\":\"\"}},\"title\":{\"x\":0.05},\"updatemenudefaults\":{\"bgcolor\":\"#506784\",\"borderwidth\":0},\"xaxis\":{\"automargin\":true,\"gridcolor\":\"#283442\",\"linecolor\":\"#506784\",\"ticks\":\"\",\"title\":{\"standoff\":15},\"zerolinecolor\":\"#283442\",\"zerolinewidth\":2},\"yaxis\":{\"automargin\":true,\"gridcolor\":\"#283442\",\"linecolor\":\"#506784\",\"ticks\":\"\",\"title\":{\"standoff\":15},\"zerolinecolor\":\"#283442\",\"zerolinewidth\":2}}},\"margin\":{\"r\":0,\"t\":70,\"l\":0,\"b\":75},\"title\":{\"font\":{\"size\":30},\"text\":\"2023 Saint-Louis City NIBRS-Offense Crime Totals\"},\"yaxis\":{\"title\":{\"font\":{\"size\":20},\"text\":\"NIBRS-Offense\"},\"autorange\":\"reversed\"},\"xaxis\":{\"title\":{\"font\":{\"size\":20},\"text\":\"Amount\"}},\"height\":900,\"width\":1400,\"autosize\":true,\"annotations\":[{\"font\":{\"color\":\"white\",\"size\":20},\"showarrow\":false,\"text\":\"Total Crimes: 55387\",\"textangle\":0,\"x\":0.78,\"xanchor\":\"left\",\"xref\":\"paper\",\"y\":1.05,\"yref\":\"paper\"}]},                        {\"responsive\": true}                    ).then(function(){\n",
       "                            \n",
       "var gd = document.getElementById('6700ccf6-d647-41dd-9da2-bb9151ad74d5');\n",
       "var x = new MutationObserver(function (mutations, observer) {{\n",
       "        var display = window.getComputedStyle(gd).display;\n",
       "        if (!display || display === 'none') {{\n",
       "            console.log([gd, 'removed!']);\n",
       "            Plotly.purge(gd);\n",
       "            observer.disconnect();\n",
       "        }}\n",
       "}});\n",
       "\n",
       "// Listen for the removal of the full notebook cells\n",
       "var notebookContainer = gd.closest('#notebook-container');\n",
       "if (notebookContainer) {{\n",
       "    x.observe(notebookContainer, {childList: true});\n",
       "}}\n",
       "\n",
       "// Listen for the clearing of the current output cell\n",
       "var outputEl = gd.closest('.output');\n",
       "if (outputEl) {{\n",
       "    x.observe(outputEl, {childList: true});\n",
       "}}\n",
       "\n",
       "                        })                };                });            </script>        </div>"
      ]
     },
     "metadata": {},
     "output_type": "display_data"
    },
    {
     "name": "stdout",
     "output_type": "stream",
     "text": [
      "[SUCCESS] Area Scatter Maps are Created for Geo-County!\n"
     ]
    },
    {
     "data": {
      "application/vnd.plotly.v1+json": {
       "config": {
        "plotlyServerURL": "https://plot.ly"
       },
       "data": [
        {
         "marker": {
          "color": [
           9598,
           6114,
           3832,
           3466,
           2351,
           2193,
           1375,
           1213,
           975,
           572,
           538,
           522,
           473,
           383,
           344,
           328,
           248,
           140,
           102,
           92,
           66,
           47,
           47,
           44,
           41,
           31,
           18,
           16,
           10,
           8,
           6,
           6,
           5,
           4,
           3,
           3,
           3,
           2,
           2,
           2,
           2,
           1,
           1
          ]
         },
         "name": "Total Crime by NIBRS-Offense",
         "orientation": "h",
         "showlegend": false,
         "text": [
          9598,
          6114,
          3832,
          3466,
          2351,
          2193,
          1375,
          1213,
          975,
          572,
          538,
          522,
          473,
          383,
          344,
          328,
          248,
          140,
          102,
          92,
          66,
          47,
          47,
          44,
          41,
          31,
          18,
          16,
          10,
          8,
          6,
          6,
          5,
          4,
          3,
          3,
          3,
          2,
          2,
          2,
          2,
          1,
          1
         ],
         "type": "bar",
         "x": [
          9598,
          6114,
          3832,
          3466,
          2351,
          2193,
          1375,
          1213,
          975,
          572,
          538,
          522,
          473,
          383,
          344,
          328,
          248,
          140,
          102,
          92,
          66,
          47,
          47,
          44,
          41,
          31,
          18,
          16,
          10,
          8,
          6,
          6,
          5,
          4,
          3,
          3,
          3,
          2,
          2,
          2,
          2,
          1,
          1
         ],
         "y": [
          "All Other Larceny",
          "Destruction/Damage/Vandalism of Property",
          "Simple Assault",
          "Motor Vehicle Theft",
          "Drug/Narcotic Violations",
          "Aggravated Assault",
          "Burglary/Breaking & Entering",
          "Weapon Law Violations",
          "Intimidation",
          "Stolen Property Offenses",
          "Identity Theft",
          "False Pretenses/Swindle/Confidence Game",
          "Credit Card/Automated Teller Machine Fraud",
          "Counterfeiting/Forgery",
          "Robbery",
          "All Other Offenses",
          "Wire Fraud",
          "Embezzlement",
          "Impersonation",
          "Arson",
          "Kidnapping/Abduction",
          "Theft From Motor Vehicle",
          "Animal Cruelty",
          "Murder & Nonnegligent Manslaughter",
          "Hacking/Computer Invasion",
          "Extortion/Blackmail",
          "Theft From Building",
          "Theft of Motor Vehicle Parts or Accessories",
          "Drug Equipment Violations",
          "Disorderly Conduct",
          "Trespass of Real Property",
          "Driving Under the Influence",
          "Rape",
          "Shoplifting",
          "Pornography/Obscene Material",
          "Purse-snatching",
          "Welfare Fraud",
          "Curfew/Loitering/Vagrancy Violations",
          "Pocket-picking",
          "Negligent Manslaughter",
          "Sodomy",
          "Fondling",
          "Bribery"
         ]
        }
       ],
       "layout": {
        "annotations": [
         {
          "font": {
           "color": "white",
           "size": 20
          },
          "showarrow": false,
          "text": "Total Crimes: 35227",
          "textangle": 0,
          "x": 0.78,
          "xanchor": "left",
          "xref": "paper",
          "y": 1.05,
          "yref": "paper"
         }
        ],
        "autosize": true,
        "height": 900,
        "margin": {
         "b": 75,
         "l": 0,
         "r": 0,
         "t": 70
        },
        "template": {
         "data": {
          "bar": [
           {
            "error_x": {
             "color": "#f2f5fa"
            },
            "error_y": {
             "color": "#f2f5fa"
            },
            "marker": {
             "line": {
              "color": "rgb(17,17,17)",
              "width": 0.5
             },
             "pattern": {
              "fillmode": "overlay",
              "size": 10,
              "solidity": 0.2
             }
            },
            "type": "bar"
           }
          ],
          "barpolar": [
           {
            "marker": {
             "line": {
              "color": "rgb(17,17,17)",
              "width": 0.5
             },
             "pattern": {
              "fillmode": "overlay",
              "size": 10,
              "solidity": 0.2
             }
            },
            "type": "barpolar"
           }
          ],
          "carpet": [
           {
            "aaxis": {
             "endlinecolor": "#A2B1C6",
             "gridcolor": "#506784",
             "linecolor": "#506784",
             "minorgridcolor": "#506784",
             "startlinecolor": "#A2B1C6"
            },
            "baxis": {
             "endlinecolor": "#A2B1C6",
             "gridcolor": "#506784",
             "linecolor": "#506784",
             "minorgridcolor": "#506784",
             "startlinecolor": "#A2B1C6"
            },
            "type": "carpet"
           }
          ],
          "choropleth": [
           {
            "colorbar": {
             "outlinewidth": 0,
             "ticks": ""
            },
            "type": "choropleth"
           }
          ],
          "contour": [
           {
            "colorbar": {
             "outlinewidth": 0,
             "ticks": ""
            },
            "colorscale": [
             [
              0,
              "#0d0887"
             ],
             [
              0.1111111111111111,
              "#46039f"
             ],
             [
              0.2222222222222222,
              "#7201a8"
             ],
             [
              0.3333333333333333,
              "#9c179e"
             ],
             [
              0.4444444444444444,
              "#bd3786"
             ],
             [
              0.5555555555555556,
              "#d8576b"
             ],
             [
              0.6666666666666666,
              "#ed7953"
             ],
             [
              0.7777777777777778,
              "#fb9f3a"
             ],
             [
              0.8888888888888888,
              "#fdca26"
             ],
             [
              1,
              "#f0f921"
             ]
            ],
            "type": "contour"
           }
          ],
          "contourcarpet": [
           {
            "colorbar": {
             "outlinewidth": 0,
             "ticks": ""
            },
            "type": "contourcarpet"
           }
          ],
          "heatmap": [
           {
            "colorbar": {
             "outlinewidth": 0,
             "ticks": ""
            },
            "colorscale": [
             [
              0,
              "#0d0887"
             ],
             [
              0.1111111111111111,
              "#46039f"
             ],
             [
              0.2222222222222222,
              "#7201a8"
             ],
             [
              0.3333333333333333,
              "#9c179e"
             ],
             [
              0.4444444444444444,
              "#bd3786"
             ],
             [
              0.5555555555555556,
              "#d8576b"
             ],
             [
              0.6666666666666666,
              "#ed7953"
             ],
             [
              0.7777777777777778,
              "#fb9f3a"
             ],
             [
              0.8888888888888888,
              "#fdca26"
             ],
             [
              1,
              "#f0f921"
             ]
            ],
            "type": "heatmap"
           }
          ],
          "heatmapgl": [
           {
            "colorbar": {
             "outlinewidth": 0,
             "ticks": ""
            },
            "colorscale": [
             [
              0,
              "#0d0887"
             ],
             [
              0.1111111111111111,
              "#46039f"
             ],
             [
              0.2222222222222222,
              "#7201a8"
             ],
             [
              0.3333333333333333,
              "#9c179e"
             ],
             [
              0.4444444444444444,
              "#bd3786"
             ],
             [
              0.5555555555555556,
              "#d8576b"
             ],
             [
              0.6666666666666666,
              "#ed7953"
             ],
             [
              0.7777777777777778,
              "#fb9f3a"
             ],
             [
              0.8888888888888888,
              "#fdca26"
             ],
             [
              1,
              "#f0f921"
             ]
            ],
            "type": "heatmapgl"
           }
          ],
          "histogram": [
           {
            "marker": {
             "pattern": {
              "fillmode": "overlay",
              "size": 10,
              "solidity": 0.2
             }
            },
            "type": "histogram"
           }
          ],
          "histogram2d": [
           {
            "colorbar": {
             "outlinewidth": 0,
             "ticks": ""
            },
            "colorscale": [
             [
              0,
              "#0d0887"
             ],
             [
              0.1111111111111111,
              "#46039f"
             ],
             [
              0.2222222222222222,
              "#7201a8"
             ],
             [
              0.3333333333333333,
              "#9c179e"
             ],
             [
              0.4444444444444444,
              "#bd3786"
             ],
             [
              0.5555555555555556,
              "#d8576b"
             ],
             [
              0.6666666666666666,
              "#ed7953"
             ],
             [
              0.7777777777777778,
              "#fb9f3a"
             ],
             [
              0.8888888888888888,
              "#fdca26"
             ],
             [
              1,
              "#f0f921"
             ]
            ],
            "type": "histogram2d"
           }
          ],
          "histogram2dcontour": [
           {
            "colorbar": {
             "outlinewidth": 0,
             "ticks": ""
            },
            "colorscale": [
             [
              0,
              "#0d0887"
             ],
             [
              0.1111111111111111,
              "#46039f"
             ],
             [
              0.2222222222222222,
              "#7201a8"
             ],
             [
              0.3333333333333333,
              "#9c179e"
             ],
             [
              0.4444444444444444,
              "#bd3786"
             ],
             [
              0.5555555555555556,
              "#d8576b"
             ],
             [
              0.6666666666666666,
              "#ed7953"
             ],
             [
              0.7777777777777778,
              "#fb9f3a"
             ],
             [
              0.8888888888888888,
              "#fdca26"
             ],
             [
              1,
              "#f0f921"
             ]
            ],
            "type": "histogram2dcontour"
           }
          ],
          "mesh3d": [
           {
            "colorbar": {
             "outlinewidth": 0,
             "ticks": ""
            },
            "type": "mesh3d"
           }
          ],
          "parcoords": [
           {
            "line": {
             "colorbar": {
              "outlinewidth": 0,
              "ticks": ""
             }
            },
            "type": "parcoords"
           }
          ],
          "pie": [
           {
            "automargin": true,
            "type": "pie"
           }
          ],
          "scatter": [
           {
            "marker": {
             "line": {
              "color": "#283442"
             }
            },
            "type": "scatter"
           }
          ],
          "scatter3d": [
           {
            "line": {
             "colorbar": {
              "outlinewidth": 0,
              "ticks": ""
             }
            },
            "marker": {
             "colorbar": {
              "outlinewidth": 0,
              "ticks": ""
             }
            },
            "type": "scatter3d"
           }
          ],
          "scattercarpet": [
           {
            "marker": {
             "colorbar": {
              "outlinewidth": 0,
              "ticks": ""
             }
            },
            "type": "scattercarpet"
           }
          ],
          "scattergeo": [
           {
            "marker": {
             "colorbar": {
              "outlinewidth": 0,
              "ticks": ""
             }
            },
            "type": "scattergeo"
           }
          ],
          "scattergl": [
           {
            "marker": {
             "line": {
              "color": "#283442"
             }
            },
            "type": "scattergl"
           }
          ],
          "scattermapbox": [
           {
            "marker": {
             "colorbar": {
              "outlinewidth": 0,
              "ticks": ""
             }
            },
            "type": "scattermapbox"
           }
          ],
          "scatterpolar": [
           {
            "marker": {
             "colorbar": {
              "outlinewidth": 0,
              "ticks": ""
             }
            },
            "type": "scatterpolar"
           }
          ],
          "scatterpolargl": [
           {
            "marker": {
             "colorbar": {
              "outlinewidth": 0,
              "ticks": ""
             }
            },
            "type": "scatterpolargl"
           }
          ],
          "scatterternary": [
           {
            "marker": {
             "colorbar": {
              "outlinewidth": 0,
              "ticks": ""
             }
            },
            "type": "scatterternary"
           }
          ],
          "surface": [
           {
            "colorbar": {
             "outlinewidth": 0,
             "ticks": ""
            },
            "colorscale": [
             [
              0,
              "#0d0887"
             ],
             [
              0.1111111111111111,
              "#46039f"
             ],
             [
              0.2222222222222222,
              "#7201a8"
             ],
             [
              0.3333333333333333,
              "#9c179e"
             ],
             [
              0.4444444444444444,
              "#bd3786"
             ],
             [
              0.5555555555555556,
              "#d8576b"
             ],
             [
              0.6666666666666666,
              "#ed7953"
             ],
             [
              0.7777777777777778,
              "#fb9f3a"
             ],
             [
              0.8888888888888888,
              "#fdca26"
             ],
             [
              1,
              "#f0f921"
             ]
            ],
            "type": "surface"
           }
          ],
          "table": [
           {
            "cells": {
             "fill": {
              "color": "#506784"
             },
             "line": {
              "color": "rgb(17,17,17)"
             }
            },
            "header": {
             "fill": {
              "color": "#2a3f5f"
             },
             "line": {
              "color": "rgb(17,17,17)"
             }
            },
            "type": "table"
           }
          ]
         },
         "layout": {
          "annotationdefaults": {
           "arrowcolor": "#f2f5fa",
           "arrowhead": 0,
           "arrowwidth": 1
          },
          "autotypenumbers": "strict",
          "coloraxis": {
           "colorbar": {
            "outlinewidth": 0,
            "ticks": ""
           }
          },
          "colorscale": {
           "diverging": [
            [
             0,
             "#8e0152"
            ],
            [
             0.1,
             "#c51b7d"
            ],
            [
             0.2,
             "#de77ae"
            ],
            [
             0.3,
             "#f1b6da"
            ],
            [
             0.4,
             "#fde0ef"
            ],
            [
             0.5,
             "#f7f7f7"
            ],
            [
             0.6,
             "#e6f5d0"
            ],
            [
             0.7,
             "#b8e186"
            ],
            [
             0.8,
             "#7fbc41"
            ],
            [
             0.9,
             "#4d9221"
            ],
            [
             1,
             "#276419"
            ]
           ],
           "sequential": [
            [
             0,
             "#0d0887"
            ],
            [
             0.1111111111111111,
             "#46039f"
            ],
            [
             0.2222222222222222,
             "#7201a8"
            ],
            [
             0.3333333333333333,
             "#9c179e"
            ],
            [
             0.4444444444444444,
             "#bd3786"
            ],
            [
             0.5555555555555556,
             "#d8576b"
            ],
            [
             0.6666666666666666,
             "#ed7953"
            ],
            [
             0.7777777777777778,
             "#fb9f3a"
            ],
            [
             0.8888888888888888,
             "#fdca26"
            ],
            [
             1,
             "#f0f921"
            ]
           ],
           "sequentialminus": [
            [
             0,
             "#0d0887"
            ],
            [
             0.1111111111111111,
             "#46039f"
            ],
            [
             0.2222222222222222,
             "#7201a8"
            ],
            [
             0.3333333333333333,
             "#9c179e"
            ],
            [
             0.4444444444444444,
             "#bd3786"
            ],
            [
             0.5555555555555556,
             "#d8576b"
            ],
            [
             0.6666666666666666,
             "#ed7953"
            ],
            [
             0.7777777777777778,
             "#fb9f3a"
            ],
            [
             0.8888888888888888,
             "#fdca26"
            ],
            [
             1,
             "#f0f921"
            ]
           ]
          },
          "colorway": [
           "#636efa",
           "#EF553B",
           "#00cc96",
           "#ab63fa",
           "#FFA15A",
           "#19d3f3",
           "#FF6692",
           "#B6E880",
           "#FF97FF",
           "#FECB52"
          ],
          "font": {
           "color": "#f2f5fa"
          },
          "geo": {
           "bgcolor": "rgb(17,17,17)",
           "lakecolor": "rgb(17,17,17)",
           "landcolor": "rgb(17,17,17)",
           "showlakes": true,
           "showland": true,
           "subunitcolor": "#506784"
          },
          "hoverlabel": {
           "align": "left"
          },
          "hovermode": "closest",
          "mapbox": {
           "style": "dark"
          },
          "paper_bgcolor": "rgb(17,17,17)",
          "plot_bgcolor": "rgb(17,17,17)",
          "polar": {
           "angularaxis": {
            "gridcolor": "#506784",
            "linecolor": "#506784",
            "ticks": ""
           },
           "bgcolor": "rgb(17,17,17)",
           "radialaxis": {
            "gridcolor": "#506784",
            "linecolor": "#506784",
            "ticks": ""
           }
          },
          "scene": {
           "xaxis": {
            "backgroundcolor": "rgb(17,17,17)",
            "gridcolor": "#506784",
            "gridwidth": 2,
            "linecolor": "#506784",
            "showbackground": true,
            "ticks": "",
            "zerolinecolor": "#C8D4E3"
           },
           "yaxis": {
            "backgroundcolor": "rgb(17,17,17)",
            "gridcolor": "#506784",
            "gridwidth": 2,
            "linecolor": "#506784",
            "showbackground": true,
            "ticks": "",
            "zerolinecolor": "#C8D4E3"
           },
           "zaxis": {
            "backgroundcolor": "rgb(17,17,17)",
            "gridcolor": "#506784",
            "gridwidth": 2,
            "linecolor": "#506784",
            "showbackground": true,
            "ticks": "",
            "zerolinecolor": "#C8D4E3"
           }
          },
          "shapedefaults": {
           "line": {
            "color": "#f2f5fa"
           }
          },
          "sliderdefaults": {
           "bgcolor": "#C8D4E3",
           "bordercolor": "rgb(17,17,17)",
           "borderwidth": 1,
           "tickwidth": 0
          },
          "ternary": {
           "aaxis": {
            "gridcolor": "#506784",
            "linecolor": "#506784",
            "ticks": ""
           },
           "baxis": {
            "gridcolor": "#506784",
            "linecolor": "#506784",
            "ticks": ""
           },
           "bgcolor": "rgb(17,17,17)",
           "caxis": {
            "gridcolor": "#506784",
            "linecolor": "#506784",
            "ticks": ""
           }
          },
          "title": {
           "x": 0.05
          },
          "updatemenudefaults": {
           "bgcolor": "#506784",
           "borderwidth": 0
          },
          "xaxis": {
           "automargin": true,
           "gridcolor": "#283442",
           "linecolor": "#506784",
           "ticks": "",
           "title": {
            "standoff": 15
           },
           "zerolinecolor": "#283442",
           "zerolinewidth": 2
          },
          "yaxis": {
           "automargin": true,
           "gridcolor": "#283442",
           "linecolor": "#506784",
           "ticks": "",
           "title": {
            "standoff": 15
           },
           "zerolinecolor": "#283442",
           "zerolinewidth": 2
          }
         }
        },
        "title": {
         "font": {
          "size": 30
         },
         "text": "2023 Saint Louis County NIBRS-Offense Crime Totals"
        },
        "width": 1400,
        "xaxis": {
         "title": {
          "font": {
           "size": 20
          },
          "text": "Amount"
         }
        },
        "yaxis": {
         "autorange": "reversed",
         "title": {
          "font": {
           "size": 20
          },
          "text": "NIBRS-Offense"
         }
        }
       }
      },
      "text/html": [
       "<div>                            <div id=\"cc407eba-7a96-48da-a90e-ac45105db381\" class=\"plotly-graph-div\" style=\"height:900px; width:1400px;\"></div>            <script type=\"text/javascript\">                require([\"plotly\"], function(Plotly) {                    window.PLOTLYENV=window.PLOTLYENV || {};                                    if (document.getElementById(\"cc407eba-7a96-48da-a90e-ac45105db381\")) {                    Plotly.newPlot(                        \"cc407eba-7a96-48da-a90e-ac45105db381\",                        [{\"marker\":{\"color\":[9598,6114,3832,3466,2351,2193,1375,1213,975,572,538,522,473,383,344,328,248,140,102,92,66,47,47,44,41,31,18,16,10,8,6,6,5,4,3,3,3,2,2,2,2,1,1]},\"name\":\"Total Crime by NIBRS-Offense\",\"orientation\":\"h\",\"showlegend\":false,\"text\":[9598.0,6114.0,3832.0,3466.0,2351.0,2193.0,1375.0,1213.0,975.0,572.0,538.0,522.0,473.0,383.0,344.0,328.0,248.0,140.0,102.0,92.0,66.0,47.0,47.0,44.0,41.0,31.0,18.0,16.0,10.0,8.0,6.0,6.0,5.0,4.0,3.0,3.0,3.0,2.0,2.0,2.0,2.0,1.0,1.0],\"x\":[9598,6114,3832,3466,2351,2193,1375,1213,975,572,538,522,473,383,344,328,248,140,102,92,66,47,47,44,41,31,18,16,10,8,6,6,5,4,3,3,3,2,2,2,2,1,1],\"y\":[\"All Other Larceny\",\"Destruction\\u002fDamage\\u002fVandalism of Property\",\"Simple Assault\",\"Motor Vehicle Theft\",\"Drug\\u002fNarcotic Violations\",\"Aggravated Assault\",\"Burglary\\u002fBreaking & Entering\",\"Weapon Law Violations\",\"Intimidation\",\"Stolen Property Offenses\",\"Identity Theft\",\"False Pretenses\\u002fSwindle\\u002fConfidence Game\",\"Credit Card\\u002fAutomated Teller Machine Fraud\",\"Counterfeiting\\u002fForgery\",\"Robbery\",\"All Other Offenses\",\"Wire Fraud\",\"Embezzlement\",\"Impersonation\",\"Arson\",\"Kidnapping\\u002fAbduction\",\"Theft From Motor Vehicle\",\"Animal Cruelty\",\"Murder & Nonnegligent Manslaughter\",\"Hacking\\u002fComputer Invasion\",\"Extortion\\u002fBlackmail\",\"Theft From Building\",\"Theft of Motor Vehicle Parts or Accessories\",\"Drug Equipment Violations\",\"Disorderly Conduct\",\"Trespass of Real Property\",\"Driving Under the Influence\",\"Rape\",\"Shoplifting\",\"Pornography\\u002fObscene Material\",\"Purse-snatching\",\"Welfare Fraud\",\"Curfew\\u002fLoitering\\u002fVagrancy Violations\",\"Pocket-picking\",\"Negligent Manslaughter\",\"Sodomy\",\"Fondling\",\"Bribery\"],\"type\":\"bar\"}],                        {\"template\":{\"data\":{\"barpolar\":[{\"marker\":{\"line\":{\"color\":\"rgb(17,17,17)\",\"width\":0.5},\"pattern\":{\"fillmode\":\"overlay\",\"size\":10,\"solidity\":0.2}},\"type\":\"barpolar\"}],\"bar\":[{\"error_x\":{\"color\":\"#f2f5fa\"},\"error_y\":{\"color\":\"#f2f5fa\"},\"marker\":{\"line\":{\"color\":\"rgb(17,17,17)\",\"width\":0.5},\"pattern\":{\"fillmode\":\"overlay\",\"size\":10,\"solidity\":0.2}},\"type\":\"bar\"}],\"carpet\":[{\"aaxis\":{\"endlinecolor\":\"#A2B1C6\",\"gridcolor\":\"#506784\",\"linecolor\":\"#506784\",\"minorgridcolor\":\"#506784\",\"startlinecolor\":\"#A2B1C6\"},\"baxis\":{\"endlinecolor\":\"#A2B1C6\",\"gridcolor\":\"#506784\",\"linecolor\":\"#506784\",\"minorgridcolor\":\"#506784\",\"startlinecolor\":\"#A2B1C6\"},\"type\":\"carpet\"}],\"choropleth\":[{\"colorbar\":{\"outlinewidth\":0,\"ticks\":\"\"},\"type\":\"choropleth\"}],\"contourcarpet\":[{\"colorbar\":{\"outlinewidth\":0,\"ticks\":\"\"},\"type\":\"contourcarpet\"}],\"contour\":[{\"colorbar\":{\"outlinewidth\":0,\"ticks\":\"\"},\"colorscale\":[[0.0,\"#0d0887\"],[0.1111111111111111,\"#46039f\"],[0.2222222222222222,\"#7201a8\"],[0.3333333333333333,\"#9c179e\"],[0.4444444444444444,\"#bd3786\"],[0.5555555555555556,\"#d8576b\"],[0.6666666666666666,\"#ed7953\"],[0.7777777777777778,\"#fb9f3a\"],[0.8888888888888888,\"#fdca26\"],[1.0,\"#f0f921\"]],\"type\":\"contour\"}],\"heatmapgl\":[{\"colorbar\":{\"outlinewidth\":0,\"ticks\":\"\"},\"colorscale\":[[0.0,\"#0d0887\"],[0.1111111111111111,\"#46039f\"],[0.2222222222222222,\"#7201a8\"],[0.3333333333333333,\"#9c179e\"],[0.4444444444444444,\"#bd3786\"],[0.5555555555555556,\"#d8576b\"],[0.6666666666666666,\"#ed7953\"],[0.7777777777777778,\"#fb9f3a\"],[0.8888888888888888,\"#fdca26\"],[1.0,\"#f0f921\"]],\"type\":\"heatmapgl\"}],\"heatmap\":[{\"colorbar\":{\"outlinewidth\":0,\"ticks\":\"\"},\"colorscale\":[[0.0,\"#0d0887\"],[0.1111111111111111,\"#46039f\"],[0.2222222222222222,\"#7201a8\"],[0.3333333333333333,\"#9c179e\"],[0.4444444444444444,\"#bd3786\"],[0.5555555555555556,\"#d8576b\"],[0.6666666666666666,\"#ed7953\"],[0.7777777777777778,\"#fb9f3a\"],[0.8888888888888888,\"#fdca26\"],[1.0,\"#f0f921\"]],\"type\":\"heatmap\"}],\"histogram2dcontour\":[{\"colorbar\":{\"outlinewidth\":0,\"ticks\":\"\"},\"colorscale\":[[0.0,\"#0d0887\"],[0.1111111111111111,\"#46039f\"],[0.2222222222222222,\"#7201a8\"],[0.3333333333333333,\"#9c179e\"],[0.4444444444444444,\"#bd3786\"],[0.5555555555555556,\"#d8576b\"],[0.6666666666666666,\"#ed7953\"],[0.7777777777777778,\"#fb9f3a\"],[0.8888888888888888,\"#fdca26\"],[1.0,\"#f0f921\"]],\"type\":\"histogram2dcontour\"}],\"histogram2d\":[{\"colorbar\":{\"outlinewidth\":0,\"ticks\":\"\"},\"colorscale\":[[0.0,\"#0d0887\"],[0.1111111111111111,\"#46039f\"],[0.2222222222222222,\"#7201a8\"],[0.3333333333333333,\"#9c179e\"],[0.4444444444444444,\"#bd3786\"],[0.5555555555555556,\"#d8576b\"],[0.6666666666666666,\"#ed7953\"],[0.7777777777777778,\"#fb9f3a\"],[0.8888888888888888,\"#fdca26\"],[1.0,\"#f0f921\"]],\"type\":\"histogram2d\"}],\"histogram\":[{\"marker\":{\"pattern\":{\"fillmode\":\"overlay\",\"size\":10,\"solidity\":0.2}},\"type\":\"histogram\"}],\"mesh3d\":[{\"colorbar\":{\"outlinewidth\":0,\"ticks\":\"\"},\"type\":\"mesh3d\"}],\"parcoords\":[{\"line\":{\"colorbar\":{\"outlinewidth\":0,\"ticks\":\"\"}},\"type\":\"parcoords\"}],\"pie\":[{\"automargin\":true,\"type\":\"pie\"}],\"scatter3d\":[{\"line\":{\"colorbar\":{\"outlinewidth\":0,\"ticks\":\"\"}},\"marker\":{\"colorbar\":{\"outlinewidth\":0,\"ticks\":\"\"}},\"type\":\"scatter3d\"}],\"scattercarpet\":[{\"marker\":{\"colorbar\":{\"outlinewidth\":0,\"ticks\":\"\"}},\"type\":\"scattercarpet\"}],\"scattergeo\":[{\"marker\":{\"colorbar\":{\"outlinewidth\":0,\"ticks\":\"\"}},\"type\":\"scattergeo\"}],\"scattergl\":[{\"marker\":{\"line\":{\"color\":\"#283442\"}},\"type\":\"scattergl\"}],\"scattermapbox\":[{\"marker\":{\"colorbar\":{\"outlinewidth\":0,\"ticks\":\"\"}},\"type\":\"scattermapbox\"}],\"scatterpolargl\":[{\"marker\":{\"colorbar\":{\"outlinewidth\":0,\"ticks\":\"\"}},\"type\":\"scatterpolargl\"}],\"scatterpolar\":[{\"marker\":{\"colorbar\":{\"outlinewidth\":0,\"ticks\":\"\"}},\"type\":\"scatterpolar\"}],\"scatter\":[{\"marker\":{\"line\":{\"color\":\"#283442\"}},\"type\":\"scatter\"}],\"scatterternary\":[{\"marker\":{\"colorbar\":{\"outlinewidth\":0,\"ticks\":\"\"}},\"type\":\"scatterternary\"}],\"surface\":[{\"colorbar\":{\"outlinewidth\":0,\"ticks\":\"\"},\"colorscale\":[[0.0,\"#0d0887\"],[0.1111111111111111,\"#46039f\"],[0.2222222222222222,\"#7201a8\"],[0.3333333333333333,\"#9c179e\"],[0.4444444444444444,\"#bd3786\"],[0.5555555555555556,\"#d8576b\"],[0.6666666666666666,\"#ed7953\"],[0.7777777777777778,\"#fb9f3a\"],[0.8888888888888888,\"#fdca26\"],[1.0,\"#f0f921\"]],\"type\":\"surface\"}],\"table\":[{\"cells\":{\"fill\":{\"color\":\"#506784\"},\"line\":{\"color\":\"rgb(17,17,17)\"}},\"header\":{\"fill\":{\"color\":\"#2a3f5f\"},\"line\":{\"color\":\"rgb(17,17,17)\"}},\"type\":\"table\"}]},\"layout\":{\"annotationdefaults\":{\"arrowcolor\":\"#f2f5fa\",\"arrowhead\":0,\"arrowwidth\":1},\"autotypenumbers\":\"strict\",\"coloraxis\":{\"colorbar\":{\"outlinewidth\":0,\"ticks\":\"\"}},\"colorscale\":{\"diverging\":[[0,\"#8e0152\"],[0.1,\"#c51b7d\"],[0.2,\"#de77ae\"],[0.3,\"#f1b6da\"],[0.4,\"#fde0ef\"],[0.5,\"#f7f7f7\"],[0.6,\"#e6f5d0\"],[0.7,\"#b8e186\"],[0.8,\"#7fbc41\"],[0.9,\"#4d9221\"],[1,\"#276419\"]],\"sequential\":[[0.0,\"#0d0887\"],[0.1111111111111111,\"#46039f\"],[0.2222222222222222,\"#7201a8\"],[0.3333333333333333,\"#9c179e\"],[0.4444444444444444,\"#bd3786\"],[0.5555555555555556,\"#d8576b\"],[0.6666666666666666,\"#ed7953\"],[0.7777777777777778,\"#fb9f3a\"],[0.8888888888888888,\"#fdca26\"],[1.0,\"#f0f921\"]],\"sequentialminus\":[[0.0,\"#0d0887\"],[0.1111111111111111,\"#46039f\"],[0.2222222222222222,\"#7201a8\"],[0.3333333333333333,\"#9c179e\"],[0.4444444444444444,\"#bd3786\"],[0.5555555555555556,\"#d8576b\"],[0.6666666666666666,\"#ed7953\"],[0.7777777777777778,\"#fb9f3a\"],[0.8888888888888888,\"#fdca26\"],[1.0,\"#f0f921\"]]},\"colorway\":[\"#636efa\",\"#EF553B\",\"#00cc96\",\"#ab63fa\",\"#FFA15A\",\"#19d3f3\",\"#FF6692\",\"#B6E880\",\"#FF97FF\",\"#FECB52\"],\"font\":{\"color\":\"#f2f5fa\"},\"geo\":{\"bgcolor\":\"rgb(17,17,17)\",\"lakecolor\":\"rgb(17,17,17)\",\"landcolor\":\"rgb(17,17,17)\",\"showlakes\":true,\"showland\":true,\"subunitcolor\":\"#506784\"},\"hoverlabel\":{\"align\":\"left\"},\"hovermode\":\"closest\",\"mapbox\":{\"style\":\"dark\"},\"paper_bgcolor\":\"rgb(17,17,17)\",\"plot_bgcolor\":\"rgb(17,17,17)\",\"polar\":{\"angularaxis\":{\"gridcolor\":\"#506784\",\"linecolor\":\"#506784\",\"ticks\":\"\"},\"bgcolor\":\"rgb(17,17,17)\",\"radialaxis\":{\"gridcolor\":\"#506784\",\"linecolor\":\"#506784\",\"ticks\":\"\"}},\"scene\":{\"xaxis\":{\"backgroundcolor\":\"rgb(17,17,17)\",\"gridcolor\":\"#506784\",\"gridwidth\":2,\"linecolor\":\"#506784\",\"showbackground\":true,\"ticks\":\"\",\"zerolinecolor\":\"#C8D4E3\"},\"yaxis\":{\"backgroundcolor\":\"rgb(17,17,17)\",\"gridcolor\":\"#506784\",\"gridwidth\":2,\"linecolor\":\"#506784\",\"showbackground\":true,\"ticks\":\"\",\"zerolinecolor\":\"#C8D4E3\"},\"zaxis\":{\"backgroundcolor\":\"rgb(17,17,17)\",\"gridcolor\":\"#506784\",\"gridwidth\":2,\"linecolor\":\"#506784\",\"showbackground\":true,\"ticks\":\"\",\"zerolinecolor\":\"#C8D4E3\"}},\"shapedefaults\":{\"line\":{\"color\":\"#f2f5fa\"}},\"sliderdefaults\":{\"bgcolor\":\"#C8D4E3\",\"bordercolor\":\"rgb(17,17,17)\",\"borderwidth\":1,\"tickwidth\":0},\"ternary\":{\"aaxis\":{\"gridcolor\":\"#506784\",\"linecolor\":\"#506784\",\"ticks\":\"\"},\"baxis\":{\"gridcolor\":\"#506784\",\"linecolor\":\"#506784\",\"ticks\":\"\"},\"bgcolor\":\"rgb(17,17,17)\",\"caxis\":{\"gridcolor\":\"#506784\",\"linecolor\":\"#506784\",\"ticks\":\"\"}},\"title\":{\"x\":0.05},\"updatemenudefaults\":{\"bgcolor\":\"#506784\",\"borderwidth\":0},\"xaxis\":{\"automargin\":true,\"gridcolor\":\"#283442\",\"linecolor\":\"#506784\",\"ticks\":\"\",\"title\":{\"standoff\":15},\"zerolinecolor\":\"#283442\",\"zerolinewidth\":2},\"yaxis\":{\"automargin\":true,\"gridcolor\":\"#283442\",\"linecolor\":\"#506784\",\"ticks\":\"\",\"title\":{\"standoff\":15},\"zerolinecolor\":\"#283442\",\"zerolinewidth\":2}}},\"margin\":{\"r\":0,\"t\":70,\"l\":0,\"b\":75},\"title\":{\"font\":{\"size\":30},\"text\":\"2023 Saint Louis County NIBRS-Offense Crime Totals\"},\"yaxis\":{\"title\":{\"font\":{\"size\":20},\"text\":\"NIBRS-Offense\"},\"autorange\":\"reversed\"},\"xaxis\":{\"title\":{\"font\":{\"size\":20},\"text\":\"Amount\"}},\"height\":900,\"width\":1400,\"autosize\":true,\"annotations\":[{\"font\":{\"color\":\"white\",\"size\":20},\"showarrow\":false,\"text\":\"Total Crimes: 35227\",\"textangle\":0,\"x\":0.78,\"xanchor\":\"left\",\"xref\":\"paper\",\"y\":1.05,\"yref\":\"paper\"}]},                        {\"responsive\": true}                    ).then(function(){\n",
       "                            \n",
       "var gd = document.getElementById('cc407eba-7a96-48da-a90e-ac45105db381');\n",
       "var x = new MutationObserver(function (mutations, observer) {{\n",
       "        var display = window.getComputedStyle(gd).display;\n",
       "        if (!display || display === 'none') {{\n",
       "            console.log([gd, 'removed!']);\n",
       "            Plotly.purge(gd);\n",
       "            observer.disconnect();\n",
       "        }}\n",
       "}});\n",
       "\n",
       "// Listen for the removal of the full notebook cells\n",
       "var notebookContainer = gd.closest('#notebook-container');\n",
       "if (notebookContainer) {{\n",
       "    x.observe(notebookContainer, {childList: true});\n",
       "}}\n",
       "\n",
       "// Listen for the clearing of the current output cell\n",
       "var outputEl = gd.closest('.output');\n",
       "if (outputEl) {{\n",
       "    x.observe(outputEl, {childList: true});\n",
       "}}\n",
       "\n",
       "                        })                };                });            </script>        </div>"
      ]
     },
     "metadata": {},
     "output_type": "display_data"
    },
    {
     "name": "stdout",
     "output_type": "stream",
     "text": [
      "[SUCCESS] Area Scatter Maps are Created for Geo-County!\n"
     ]
    }
   ],
   "source": [
    "def createCountyCityBarChart(dataFrame, areaColumn, nibrsColumn, areaPath):\n",
    "    '''\n",
    "    Title: Create County & City Bar Charts\n",
    "    Description: This function creates a barchart of all the crime for that given area\n",
    "    with the following NIBRS column.\n",
    "    dataFrame: The dataframe in which all data is found. \n",
    "    areaColumn: The column name of the area in which you would to create images for.\n",
    "    areaPath: Path to where these images will be saved.\n",
    "    '''\n",
    "\n",
    "    # Create list of all NeighborHoods\n",
    "    area_list = dataFrame[dataFrame[areaColumn].notnull()][areaColumn].unique()\n",
    "\n",
    "    # For each Neighborhood in the list\n",
    "    for area in area_list:\n",
    "\n",
    "        # Create DataFrame of Neighborhood\n",
    "        area_df = dataFrame[dataFrame[areaColumn] == area].copy()\n",
    "\n",
    "        # Value Count Lists\n",
    "        area_vc = pd.DataFrame(area_df[nibrsColumn].value_counts().reset_index())\n",
    "\n",
    "        # Create Bar Chart\n",
    "        barChart = go.Figure(go.Bar(name=f'Total Crime by {nibrsColumn}',   # Chart Title\n",
    "                             text=area_vc[\"count\"],                         # Add Data Labels to bars\n",
    "                             orientation='h',                               # Orientation of Chart\n",
    "                             y=area_vc[nibrsColumn],                        # y Values\n",
    "                             x=area_vc['count'],                            # x values\n",
    "                             showlegend=False,                              # Do not show legend\n",
    "                             marker=dict(color=area_vc['count'])))          # Continuous colors based on amount\n",
    "\n",
    "        # Update BarChart Layout\n",
    "        barChart.update_layout(height= 900,                                                 # Height of Subplot\n",
    "                               width= 1400,                                                 # Width of Subplot\n",
    "                               margin={\"r\":0,\"t\":70,\"l\":0,\"b\":75},                          # Margin values right, top, left, bottom    \n",
    "                               title=dict(text=f'2023 {area} {nibrsColumn} Crime Totals',   # Title of BarChart\n",
    "                                          font=dict(size=30)),                              # Title Font size\n",
    "                               autosize=True,                                               # Set Autosize of charts to True or False\n",
    "                               template='plotly_dark',                                      # Template of Subplot\n",
    "                               yaxis=dict(autorange=\"reversed\",                             # Reverse Y-axis order\n",
    "                                          title=dict(text=f'{nibrsColumn}',                 # Y-axis title\n",
    "                                                     font=dict(size=20))),                  # Y-axis title font size\n",
    "                               xaxis=dict(title=dict(text=f'Amount',                        # X-axis title\n",
    "                                                     font=dict(size=20))))                  # X-axis title font size\n",
    "        \n",
    "        # Add Totla Crime Stats\n",
    "        barChart.add_annotation(dict(y=1.05,                                    # y position \n",
    "                                     x=0.78,                                    # X position \n",
    "                                     yref=\"paper\",                              # set y reference to paper\n",
    "                                     xref=\"paper\",                              # Set X reference to paper\n",
    "                                     xanchor='left',                            # Set x anchor\n",
    "                                     showarrow=False,                           # Don't show arrow\n",
    "                                     textangle=0,                               # Angle of Title\n",
    "                                     font=dict(color='white',                   # Font color\n",
    "                                               size=20),                        # Font size\n",
    "                                     text=f\"Total Crimes: {len(area_df)}\"))     # Title of Annotation\n",
    "\n",
    "        # Replace / or \" \" with a dash\n",
    "        area = area.replace(\" \", \"-\")\n",
    "        area = area.replace(\"/\",\"-\")\n",
    "\n",
    "        # Create Path information\n",
    "        coverImagePath = f'BarChart-2023-({nibrsColumn})-{area}.html'\n",
    "        areaFullPath = f'{areaPath}'\n",
    "        \n",
    "        # Set the full path\n",
    "        finalPath = os.path.join(areaFullPath,coverImagePath)\n",
    "\n",
    "        # Save HTML\n",
    "        barChart.write_html(finalPath)\n",
    "\n",
    "    # Show successful creation\n",
    "    print(f'[SUCCESS] Area Scatter Maps are Created for {areaColumn}!')\n",
    "\n",
    "# Create & Save Density Maps\n",
    "createCountyCityBarChart(dataFrame=stl_city_df,           # DataFrame                                   \n",
    "                           areaColumn='Geo-County',       # Area Column                                   \n",
    "                           nibrsColumn='NIBRS-Offense',   # NIBRS Column                               \n",
    "                           areaPath='City/')              # Directory Path                                          \n",
    "\n",
    "createCountyCityBarChart(dataFrame=stl_county_df,         # DataFrame           \n",
    "                           areaColumn='Geo-County',       # Area Column          \n",
    "                           nibrsColumn='NIBRS-Offense',   # NIBRS Column                           \n",
    "                           areaPath='County/')            # Directory Path\n",
    "\n",
    "createCountyCityBarChart(dataFrame=stl_city_df,                    # DataFrame                                   \n",
    "                           areaColumn='Geo-County',                # Area Column                                   \n",
    "                           nibrsColumn='NIBRS-Offense-Category',   # NIBRS Column                               \n",
    "                           areaPath='City/')                       # Directory Path                                          \n",
    "\n",
    "createCountyCityBarChart(dataFrame=stl_county_df,                  # DataFrame           \n",
    "                           areaColumn='Geo-County',                # Area Column          \n",
    "                           nibrsColumn='NIBRS-Offense-Category',   # NIBRS Column                           \n",
    "                           areaPath='County/')                     # Directory Path           "
   ]
  },
  {
   "cell_type": "markdown",
   "metadata": {},
   "source": [
    "## Area Visualizations"
   ]
  },
  {
   "cell_type": "markdown",
   "metadata": {},
   "source": [
    "### Area Pictures"
   ]
  },
  {
   "cell_type": "code",
   "execution_count": null,
   "metadata": {},
   "outputs": [],
   "source": [
    "def createAreaPictures(dataFrame, areaColumn, nibrsColumn, zoomLevel, areaPath):\n",
    "    '''\n",
    "    Title: Area Map Picture\n",
    "    Description: This will create cover images to use in the website as backgrounds. \n",
    "    The colors are correlated to the amound of crimes and for each area.\n",
    "    dataFrame: The dataframe in which all data is found. \n",
    "    areaColumn: The column name of the area in which you would to create images for.\n",
    "    nibrsColumn: The column name of the type of nibrs information that would be mapped.\n",
    "    areaPath: Path to where these images will be saved.\n",
    "    '''\n",
    "\n",
    "    # Create list of all NeighborHoods\n",
    "    area_list = dataFrame[dataFrame[areaColumn].notnull()][areaColumn].unique()\n",
    "\n",
    "    # For each Neighborhood in the list\n",
    "    for area in area_list:\n",
    "\n",
    "        # Create DataFrame of Neighborhood\n",
    "        area_df = dataFrame[dataFrame[areaColumn] == area].copy()\n",
    "\n",
    "        # Value Count Lists\n",
    "        area_vc = pd.DataFrame(area_df[nibrsColumn].value_counts().reset_index())\n",
    "\n",
    "        # Create dictionary\n",
    "        area_vc_mappings = dict()\n",
    "\n",
    "        # Reverse the order of dataframe\n",
    "        area_vc_reversed = area_vc.iloc[::-1].copy()\n",
    "\n",
    "        # Create Area NIBRS mappings\n",
    "        for i, (offense, counts) in enumerate(zip(area_vc_reversed[nibrsColumn],area_vc_reversed['count'])):\n",
    "            area_vc_mappings.update({f\"{offense}\": counts})\n",
    "\n",
    "        # Map this counts to values in the area_df\n",
    "        area_df['NIBRS-Map'] = area_df[nibrsColumn].map(area_vc_mappings)\n",
    "            \n",
    "        # Geographic Lists\n",
    "        area_latitudes = area_df['Geo-Latitude']\n",
    "        area_longitudes = area_df['Geo-Longitude']\n",
    "                                                  \n",
    "        # Create Geographic Map\n",
    "        mapPlot = go.Figure(go.Scattermapbox(name=f'{areaColumn} Crime Points',   # Chart Name\n",
    "                             lat=area_latitudes,                                  # Latitudes\n",
    "                             lon=area_longitudes,                                 # Longitudes\n",
    "                             showlegend=False,                                    # Don't show legends\n",
    "                             marker=dict(color=area_df['NIBRS-Map'])))            # Hover Information Template     \n",
    "\n",
    "        # Create Layout\n",
    "        mapPlot.update_layout(height= 900,                                                # Height of Subplot\n",
    "                              width= 1400,                                                # Width of Subplot\n",
    "                              margin={\"r\":0,\"t\":0,\"l\":0,\"b\":0},                           # Margin values right, top, left, bottom                  \n",
    "                              autosize=True,                                              # Set Autosize of charts to True or False\n",
    "                              template='plotly_dark',                                     # Template of Subplot\n",
    "                              mapbox=dict(zoom=zoomLevel,                                 # Zoom of Map\n",
    "                                          pitch=0,                                        # Pitch of Map\n",
    "                                          bearing=0,                                      # Bearing of Map\n",
    "                                          style=map_theme,                                # Theme of Scatter Map\n",
    "                                          center=dict(lat=np.mean(area_latitudes),        # Mean of Area Latitudes\n",
    "                                                      lon=np.mean(area_longitudes))))     # Mean of Area Longitudes\n",
    "        \n",
    "        # Replace / or \" \" with a dash\n",
    "        area = area.replace(\" \", \"-\")\n",
    "        area = area.replace(\"/\",\"-\")\n",
    "\n",
    "        coverImagePath = f'CoverImage-2023-{area}.jpeg'\n",
    "        areaFullPath = f'{areaPath}{area}'\n",
    "\n",
    "        finalPath = os.path.join(areaFullPath,coverImagePath)\n",
    "\n",
    "        # Save Image\n",
    "        mapPlot.write_image(finalPath)\n",
    "\n",
    "    # Show successful creation\n",
    "    print(f'[SUCCESS] Area Pictures Created for {areaColumn}!')\n",
    "\n",
    "# Create Cover Images for each Town, Village & Neighborhood\n",
    "createAreaPictures(dataFrame=stl_df,              # DataFrame\n",
    "                   areaColumn='Geo-Town',         # Column of Area\n",
    "                   nibrsColumn='NIBRS-Offense',   # NIBRS Crime Column\n",
    "                   zoomLevel=12.5,                # Zoom Level        \n",
    "                   areaPath='Towns/')             # Path to directory\n",
    "\n",
    "createAreaPictures(dataFrame=stl_df,              # DataFrame\n",
    "                   areaColumn='Geo-Village',      # Column of Area\n",
    "                   nibrsColumn='NIBRS-Offense',   # NIBRS Crime Column\n",
    "                   zoomLevel=12.5,                # Zoom Level    \n",
    "                   areaPath='Villages/')          # Path to directory\n",
    "\n",
    "createAreaPictures(dataFrame=stl_df,                # DataFrame\n",
    "                   areaColumn='Geo-Neighborhood',   # Column of Area\n",
    "                   nibrsColumn='NIBRS-Offense',     # NIBRS Crime Column\n",
    "                   zoomLevel=14,                    # Zoom Level    \n",
    "                   areaPath='Neighborhoods/')       # Path to directory  "
   ]
  },
  {
   "cell_type": "markdown",
   "metadata": {},
   "source": [
    "### Density Maps"
   ]
  },
  {
   "cell_type": "code",
   "execution_count": 54,
   "metadata": {},
   "outputs": [
    {
     "name": "stdout",
     "output_type": "stream",
     "text": [
      "[SUCCESS] Area Density Maps are Created for Geo-Town!\n",
      "[SUCCESS] Area Density Maps are Created for Geo-Village!\n",
      "[SUCCESS] Area Density Maps are Created for Geo-Neighborhood!\n"
     ]
    }
   ],
   "source": [
    "def createAreaDensityMap(dataFrame, areaColumn, zoomLevel, areaPath):\n",
    "    '''\n",
    "    Title: Create Area Denisty Map\n",
    "    Description: This function will create Area Denisty Maps to show where \n",
    "    crime is most common, but correlating with the other crime around them.\n",
    "    dataFrame: The dataframe in which all data is found. \n",
    "    areaColumn: The column name of the area in which you would to create images for.\n",
    "    zoomLevel: The zoom number to see the mapped points.\n",
    "    areaPath: Path to where these images will be saved.\n",
    "    '''\n",
    "\n",
    "    # Create list of all NeighborHoods\n",
    "    area_list = dataFrame[dataFrame[areaColumn].notnull()][areaColumn].unique()\n",
    "\n",
    "    # For each Neighborhood in the list\n",
    "    for area in area_list:\n",
    "\n",
    "        # Create DataFrame of Neighborhood\n",
    "        area_df = dataFrame[dataFrame[areaColumn] == area].copy()\n",
    "            \n",
    "        # Geographic Lists\n",
    "        area_latitudes = area_df['Geo-Latitude']\n",
    "        area_longitudes = area_df['Geo-Longitude']\n",
    "                                                  \n",
    "        # Create Density Plot\n",
    "        densityPlot = go.Figure(go.Densitymapbox(name='Crime Density Map',   # Denisty Map Name             \n",
    "                                                 lat=area_latitudes,         # Latitude values          \n",
    "                                                 lon=area_longitudes,        # Longitude values       \n",
    "                                                 radius=10))                 # Radius\n",
    "\n",
    "        # Create Layout\n",
    "        densityPlot.update_layout(height= 900,                                              # Height of Subplot\n",
    "                                  width= 1400,                                                # Width of Subplot\n",
    "                                  margin={\"r\":0,\"t\":0,\"l\":0,\"b\":0},                           # Margin values right, top, left, bottom                  \n",
    "                                  autosize=True,                                              # Set Autosize of charts to True or False\n",
    "                                  template='plotly_dark',                                     # Template of Subplot\n",
    "                                  mapbox=dict(zoom=zoomLevel,                                 # Zoom of Map\n",
    "                                              pitch=0,                                        # Pitch of Map\n",
    "                                              bearing=0,                                      # Bearing of Map\n",
    "                                              style=map_theme,                                # Theme of Scatter Map\n",
    "                                              center=dict(lat=np.mean(area_latitudes),        # Mean of Area Latitudes\n",
    "                                                          lon=np.mean(area_longitudes))))     # Mean of Area Longitudes\n",
    "\n",
    "        # Replace / or \" \" with a dash\n",
    "        area = area.replace(\" \", \"-\")\n",
    "        area = area.replace(\"/\",\"-\")\n",
    "\n",
    "        # Set Path Information\n",
    "        coverImagePath = f'DensityMap-2023-{area}.html'\n",
    "        areaFullPath = f'{areaPath}{area}'\n",
    "\n",
    "        # Set final path to save\n",
    "        finalPath = os.path.join(areaFullPath,coverImagePath)\n",
    "\n",
    "        # Save image\n",
    "        densityPlot.write_html(finalPath)\n",
    "    \n",
    "    # Show successful creation\n",
    "    print(f'[SUCCESS] Area Density Maps are Created for {areaColumn}!')\n",
    "\n",
    "# Create & Save Density Maps\n",
    "createAreaDensityMap(dataFrame=stl_df,        # DataFrame\n",
    "                     areaColumn='Geo-Town',   # Column of Area\n",
    "                     zoomLevel=12.5,          # Zoom Level        \n",
    "                     areaPath='Towns/')       # Path to directory\n",
    "\n",
    "createAreaDensityMap(dataFrame=stl_df,           # DataFrame\n",
    "                     areaColumn='Geo-Village',   # Column of Area\n",
    "                     zoomLevel=12.5,             # Zoom Level    \n",
    "                     areaPath='Villages/')       # Path to directory\n",
    "\n",
    "createAreaDensityMap(dataFrame=stl_df,                # DataFrame\n",
    "                     areaColumn='Geo-Neighborhood',   # Column of Area\n",
    "                     zoomLevel=14,                    # Zoom Level    \n",
    "                     areaPath='Neighborhoods/')       # Path to directory  "
   ]
  },
  {
   "cell_type": "markdown",
   "metadata": {},
   "source": [
    "### Scatter Maps"
   ]
  },
  {
   "cell_type": "code",
   "execution_count": null,
   "metadata": {},
   "outputs": [],
   "source": [
    "# Show all color swatches for continuous colors\n",
    "fig = px.colors.sequential.swatches_continuous() \n",
    "fig.show() "
   ]
  },
  {
   "cell_type": "code",
   "execution_count": 3,
   "metadata": {},
   "outputs": [
    {
     "name": "stdout",
     "output_type": "stream",
     "text": [
      "[SUCCESS] Area Scatter Maps are Created for Geo-Town!\n",
      "[SUCCESS] Area Scatter Maps are Created for Geo-Village!\n",
      "[SUCCESS] Area Scatter Maps are Created for Geo-Neighborhood!\n"
     ]
    }
   ],
   "source": [
    "def createAreaScatterMap(dataFrame, areaColumn, nibrsColumn, zoomLevel, areaPath):\n",
    "    '''\n",
    "    Title: Create Area Scatter Map\n",
    "    Description: This function creates a scatter map of all the latitudes and longitudes\n",
    "    correlating to the color of how many crime points there are.\n",
    "    dataFrame: The dataframe in which all data is found. \n",
    "    areaColumn: The column name of the area in which you would to create images for.\n",
    "    zoomLevel: The zoom number to see the mapped points.\n",
    "    areaPath: Path to where these images will be saved.\n",
    "    '''\n",
    "\n",
    "    # Create list of all NeighborHoods\n",
    "    area_list = dataFrame[dataFrame[areaColumn].notnull()][areaColumn].unique()\n",
    "\n",
    "    # For each Neighborhood in the list\n",
    "    for area in area_list:\n",
    "\n",
    "        # Create DataFrame of Neighborhood\n",
    "        area_df = dataFrame[dataFrame[areaColumn] == area].copy()\n",
    "\n",
    "        # Value Count Lists\n",
    "        area_vc = pd.DataFrame(area_df[nibrsColumn].value_counts().reset_index())\n",
    "        area_vc_mappings = dict()\n",
    "        area_vc_reversed = area_vc.iloc[::-1].copy()\n",
    "\n",
    "        # Create Area NIBRS mappings\n",
    "        for i, (offense, counts) in enumerate(zip(area_vc_reversed[nibrsColumn],area_vc_reversed['count'])):\n",
    "            area_vc_mappings.update({f\"{offense}\": counts})\n",
    "\n",
    "        # Map this counts to values in the area_df\n",
    "        area_df['NIBRS-Map'] = area_df[nibrsColumn].map(area_vc_mappings)\n",
    "\n",
    "        # Geographic Lists\n",
    "        area_latitudes = area_df['Geo-Latitude']\n",
    "        area_longitudes = area_df['Geo-Longitude']\n",
    "\n",
    "        # hovertempletes\n",
    "        area_hover = areaColumn + ':' + '%{customdata[0]}'\n",
    "        nibrs_hover = nibrsColumn + ':' + '%{customdata[1]}'\n",
    "\n",
    "        # Create Scatter Map Base Plot\n",
    "        scatterMap = go.Figure(go.Scattermapbox())\n",
    "\n",
    "        # Create list of Colors that correlate to continuous color values like other charts\n",
    "        markerColors = px.colors.sample_colorscale('plasma',                                             # Color palette list\n",
    "                                                   samplepoints=area_vc['count']/area_vc['count'].max())   # The range of point from min-max\n",
    "\n",
    "        # Create Counter\n",
    "        i=0\n",
    "\n",
    "        # Add each unique NIBRS column value to the scatter map in correlating colors\n",
    "        for nibrsName in area_vc[nibrsColumn].unique():\n",
    "            \n",
    "            # Create that nibrs column value as it owns dataframe\n",
    "            nibs_df = area_df[area_df[nibrsColumn] == nibrsName]\n",
    "            \n",
    "            # Create each trace of Points\n",
    "            scatterMap.add_trace(go.Scattermapbox(visible=True,                                             # Make sure all points are visible\n",
    "                                                  name=nibrsName,                                           # Value of NIBRS for legend corrlation\n",
    "                                                  mode=\"markers\",                                           # Set mode to markers\n",
    "                                                  lat=nibs_df['Geo-Latitude'],                              # Latitude Points\n",
    "                                                  lon=nibs_df['Geo-Longitude'],                             # Longitude Points\n",
    "                                                  marker=dict(color=f'{markerColors[i]}'),                  # Set the color of each point\n",
    "                                                  customdata=nibs_df[[areaColumn, nibrsColumn]],            # Custom Data Columns for Hover\n",
    "                                                  hovertemplate=\"<br>\".join([area_hover, nibrs_hover])))    # Hover value structure\n",
    "            \n",
    "            # Add to counter\n",
    "            i = i+1\n",
    "\n",
    "        # Update ScatterMap Layout\n",
    "        scatterMap.update_layout(height= 900,                                                   # Height of Subplot\n",
    "                                 width= 1400,                                                   # Width of Subplot\n",
    "                                 margin={\"r\":0,\"t\":0,\"l\":0,\"b\":0},                              # Margin values right, top, left, bottom                  \n",
    "                                 autosize=True,                                                 # Set Autosize of charts to True or False\n",
    "                                 template='plotly_dark',                                        # Template of Subplot\n",
    "                                 legend=dict(title=f'{nibrsColumn}'),                           # Legend title\n",
    "                                 mapbox=dict(zoom=zoomLevel,                                    # Zoom of Map\n",
    "                                                pitch=0,                                        # Pitch of Map\n",
    "                                                bearing=0,                                      # Bearing of Map\n",
    "                                                style=map_theme,                                # Theme of Scatter Map\n",
    "                                                center=dict(lat=np.mean(area_latitudes),        # Mean of Area Latitudes\n",
    "                                                            lon=np.mean(area_longitudes))))     # Mean of Area Longitudes    # Mean of Area Longitudes\n",
    "        \n",
    "        # Add Geographical Data Quality Annotation\n",
    "        scatterMap.add_annotation(dict(y=0.01,                                             # y position \n",
    "                                       x=0.01,                                             # X position \n",
    "                                       yref=\"paper\",                                       # set y reference to paper\n",
    "                                       xref=\"paper\",                                       # Set X reference to paper\n",
    "                                       xanchor='left',                                     # Set x anchor\n",
    "                                       showarrow=False,                                    # Don't show arrow\n",
    "                                       textangle=0,                                        # Angle of Title\n",
    "                                       font=dict(color='grey',                             # Font color\n",
    "                                                 size=8),                                  # Font size\n",
    "                                       text=f\"Geographical Data has accuracy of 99%\"))     # Title of Annotation\n",
    "    \n",
    "\n",
    "        # Replace / or \" \" with a dash\n",
    "        area = area.replace(\" \", \"-\")\n",
    "        area = area.replace(\"/\",\"-\")\n",
    "\n",
    "        # Create Path information\n",
    "        coverImagePath = f'ScatterMap-2023-({nibrsColumn})-{area}.html'\n",
    "        areaFullPath = f'{areaPath}{area}'\n",
    "        \n",
    "        # Set the full path\n",
    "        finalPath = os.path.join(areaFullPath,coverImagePath)\n",
    "\n",
    "        # Save HTML\n",
    "        scatterMap.write_html(finalPath)\n",
    "\n",
    "    # Show successful creation\n",
    "    print(f'[SUCCESS] Area Scatter Maps are Created for {areaColumn}!')\n",
    "\n",
    "# Create Scatter Maps\n",
    "createAreaScatterMap(dataFrame=stl_df,              # DataFrame\n",
    "                     areaColumn='Geo-Town',         # Area Column\n",
    "                     nibrsColumn='NIBRS-Offense',   # NIBRS Column\n",
    "                     zoomLevel=12.5,                # Zoom Level value\n",
    "                     areaPath='Towns/')             # Directory location\n",
    "\n",
    "createAreaScatterMap(dataFrame=stl_df,              # DataFrame        \n",
    "                     areaColumn='Geo-Village',      # Area Column        \n",
    "                     nibrsColumn='NIBRS-Offense',   # NIBRS Column             \n",
    "                     zoomLevel=12.5,                # Zoom Level value               \n",
    "                     areaPath='Villages/')          # Directory location           \n",
    "\n",
    "createAreaScatterMap(dataFrame=stl_df,                # DataFrame          \n",
    "                     areaColumn='Geo-Neighborhood',   # Area Column                  \n",
    "                     nibrsColumn='NIBRS-Offense',     # NIBRS Column        \n",
    "                     zoomLevel=14,                    # Zoom Level value      \n",
    "                     areaPath='Neighborhoods/')       # Directory location    \n",
    "\n",
    "createAreaScatterMap(dataFrame=stl_df,                       # DataFrame\n",
    "                     areaColumn='Geo-Town',                  # Area Column\n",
    "                     nibrsColumn='NIBRS-Offense-Category',   # NIBRS Column\n",
    "                     zoomLevel=12.5,                         # Zoom Level value\n",
    "                     areaPath='Towns/')                      # Directory location\n",
    "\n",
    "createAreaScatterMap(dataFrame=stl_df,                       # DataFrame        \n",
    "                     areaColumn='Geo-Village',               # Area Column        \n",
    "                     nibrsColumn='NIBRS-Offense-Category',   # NIBRS Column             \n",
    "                     zoomLevel=12.5,                         # Zoom Level value               \n",
    "                     areaPath='Villages/')                   # Directory location           \n",
    "\n",
    "createAreaScatterMap(dataFrame=stl_df,                       # DataFrame          \n",
    "                     areaColumn='Geo-Neighborhood',          # Area Column                  \n",
    "                     nibrsColumn='NIBRS-Offense-Category',   # NIBRS Column        \n",
    "                     zoomLevel=14,                           # Zoom Level value      \n",
    "                     areaPath='Neighborhoods/')              # Directory location                   "
   ]
  },
  {
   "cell_type": "markdown",
   "metadata": {},
   "source": [
    "### BarCharts"
   ]
  },
  {
   "cell_type": "code",
   "execution_count": 4,
   "metadata": {},
   "outputs": [
    {
     "name": "stdout",
     "output_type": "stream",
     "text": [
      "[SUCCESS] Area Scatter Maps are Created for Geo-Town!\n",
      "[SUCCESS] Area Scatter Maps are Created for Geo-Village!\n",
      "[SUCCESS] Area Scatter Maps are Created for Geo-Neighborhood!\n"
     ]
    }
   ],
   "source": [
    "def createAreaBarChart(dataFrame, areaColumn, nibrsColumn, areaPath):\n",
    "    '''\n",
    "    Title: Create Bar Chart\n",
    "    Description: This function creates a barchart of all the crime for that given area\n",
    "    with the following NIBRS column.\n",
    "    dataFrame: The dataframe in which all data is found. \n",
    "    areaColumn: The column name of the area in which you would to create images for.\n",
    "    areaPath: Path to where these images will be saved.\n",
    "    '''\n",
    "\n",
    "    # Create list of all NeighborHoods\n",
    "    area_list = dataFrame[dataFrame[areaColumn].notnull()][areaColumn].unique()\n",
    "\n",
    "    # For each Neighborhood in the list\n",
    "    for area in area_list:\n",
    "\n",
    "        # Create DataFrame of Neighborhood\n",
    "        area_df = dataFrame[dataFrame[areaColumn] == area].copy()\n",
    "\n",
    "        # Value Count Lists\n",
    "        area_vc = pd.DataFrame(area_df[nibrsColumn].value_counts().reset_index())\n",
    "\n",
    "        # Create Bar Chart\n",
    "        barChart = go.Figure(go.Bar(name=f'Total Crime by {nibrsColumn}',   # Chart Title\n",
    "                             text=area_vc[\"count\"],                         # Add Data Labels to bars\n",
    "                             orientation='h',                               # Orientation of Chart\n",
    "                             y=area_vc[nibrsColumn],                        # y Values\n",
    "                             x=area_vc['count'],                            # x values\n",
    "                             showlegend=False,                              # Do not show legend\n",
    "                             marker=dict(color=area_vc['count'])))          # Continuous colors based on amount\n",
    "\n",
    "        # Update BarChart Layout\n",
    "        barChart.update_layout(height= 900,                                                 # Height of Subplot\n",
    "                               width= 1400,                                                 # Width of Subplot\n",
    "                               margin={\"r\":0,\"t\":70,\"l\":0,\"b\":75},                          # Margin values right, top, left, bottom    \n",
    "                               title=dict(text=f'2023 {area} {nibrsColumn} Crime Totals',   # Title of BarChart\n",
    "                                          font=dict(size=30)),                              # Title Font size\n",
    "                               autosize=True,                                               # Set Autosize of charts to True or False\n",
    "                               template='plotly_dark',                                      # Template of Subplot\n",
    "                               yaxis=dict(autorange=\"reversed\",                             # Reverse Y-axis order\n",
    "                                          title=dict(text=f'{nibrsColumn}',                 # Y-axis title\n",
    "                                                     font=dict(size=20))),                  # Y-axis title font size\n",
    "                               xaxis=dict(title=dict(text=f'Amount',                        # X-axis title\n",
    "                                                     font=dict(size=20))))                  # X-axis title font size\n",
    "        \n",
    "        # Add Totla Crime Stats\n",
    "        barChart.add_annotation(dict(y=1.05,                                    # y position \n",
    "                                     x=0.78,                                    # X position \n",
    "                                     yref=\"paper\",                              # set y reference to paper\n",
    "                                     xref=\"paper\",                              # Set X reference to paper\n",
    "                                     xanchor='left',                            # Set x anchor\n",
    "                                     showarrow=False,                           # Don't show arrow\n",
    "                                     textangle=0,                               # Angle of Title\n",
    "                                     font=dict(color='white',                   # Font color\n",
    "                                               size=20),                        # Font size\n",
    "                                     text=f\"Total Crimes: {len(area_df)}\"))     # Title of Annotation\n",
    "\n",
    "        # Replace / or \" \" with a dash\n",
    "        area = area.replace(\" \", \"-\")\n",
    "        area = area.replace(\"/\",\"-\")\n",
    "\n",
    "        # Create Path information\n",
    "        coverImagePath = f'BarChart-2023-{nibrsColumn})-{area}.html'\n",
    "        areaFullPath = f'{areaPath}{area}'\n",
    "        \n",
    "        # Set the full path\n",
    "        finalPath = os.path.join(areaFullPath,coverImagePath)\n",
    "\n",
    "        # Save HTML\n",
    "        barChart.write_html(finalPath)\n",
    "\n",
    "    # Show successful creation\n",
    "    print(f'[SUCCESS] Area Scatter Maps are Created for {areaColumn}!')\n",
    "\n",
    "# Create BarCharts\n",
    "createAreaBarChart(dataFrame=stl_df,              # DataFrame\n",
    "                   areaColumn='Geo-Town',         # Area Column           \n",
    "                   nibrsColumn='NIBRS-Offense',   # NIBRS Column                  \n",
    "                   areaPath='Towns/')             # Directory Path\n",
    "\n",
    "createAreaBarChart(dataFrame=stl_df,              # DataFrame               \n",
    "                   areaColumn='Geo-Village',      # Area Column                  \n",
    "                   nibrsColumn='NIBRS-Offense',   # NIBRS Column                       \n",
    "                   areaPath='Villages/')          # Directory Path            \n",
    "\n",
    "createAreaBarChart(dataFrame=stl_df,                # DataFrame         \n",
    "                   areaColumn='Geo-Neighborhood',   # Area Column                           \n",
    "                   nibrsColumn='NIBRS-Offense',     # NIBRS Column                     \n",
    "                   areaPath='Neighborhoods/')       # Directory Path     \n",
    "\n",
    "createAreaBarChart(dataFrame=stl_df,                       # DataFrame\n",
    "                   areaColumn='Geo-Town',                  # Area Column           \n",
    "                   nibrsColumn='NIBRS-Offense-Category',   # NIBRS Column                  \n",
    "                   areaPath='Towns/')                      # Directory Path\n",
    "\n",
    "createAreaBarChart(dataFrame=stl_df,                       # DataFrame               \n",
    "                   areaColumn='Geo-Village',               # Area Column                  \n",
    "                   nibrsColumn='NIBRS-Offense-Category',   # NIBRS Column                       \n",
    "                   areaPath='Villages/')                   # Directory Path            \n",
    "\n",
    "createAreaBarChart(dataFrame=stl_df,                       # DataFrame         \n",
    "                   areaColumn='Geo-Neighborhood',          # Area Column                           \n",
    "                   nibrsColumn='NIBRS-Offense-Category',   # NIBRS Column                     \n",
    "                   areaPath='Neighborhoods/')              # Directory Path              "
   ]
  },
  {
   "cell_type": "markdown",
   "metadata": {},
   "source": [
    "### Scatter Maps & BarChart Combo"
   ]
  },
  {
   "cell_type": "code",
   "execution_count": 5,
   "metadata": {},
   "outputs": [
    {
     "name": "stdout",
     "output_type": "stream",
     "text": [
      "[SUCCESS] Area Scatter Maps are Created for Geo-Town!\n",
      "[SUCCESS] Area Scatter Maps are Created for Geo-Village!\n",
      "[SUCCESS] Area Scatter Maps are Created for Geo-Neighborhood!\n"
     ]
    }
   ],
   "source": [
    "def createAreaScatterBarCombo(dataFrame, areaColumn, nibrsColumn, zoomLevel, areaPath):\n",
    "\n",
    "    # Create list of all NeighborHoods\n",
    "    area_list = dataFrame[dataFrame[areaColumn].notnull()][areaColumn].unique()\n",
    "\n",
    "    # For each Neighborhood in the list\n",
    "    for area in area_list:\n",
    "\n",
    "        # Create DataFrame of Neighborhood\n",
    "        area_df = dataFrame[dataFrame[areaColumn] == area].copy()\n",
    "\n",
    "        # Value Count Lists\n",
    "        area_vc = pd.DataFrame(area_df[nibrsColumn].value_counts().reset_index())\n",
    "\n",
    "        area_vc_mappings = dict()\n",
    "\n",
    "        area_vc_reversed = area_vc.iloc[::-1].copy()\n",
    "\n",
    "        # Create Area NIBRS mappings\n",
    "        for i, (offense, counts) in enumerate(zip(area_vc_reversed[nibrsColumn],area_vc_reversed['count'])):\n",
    "            area_vc_mappings.update({f\"{offense}\": counts})\n",
    "\n",
    "        # Map this counts to values in the area_df\n",
    "        area_df['NIBRS-Map'] = area_df[nibrsColumn].map(area_vc_mappings)\n",
    "            \n",
    "        # Geographic Lists\n",
    "        area_latitudes = area_df['Geo-Latitude']\n",
    "        area_longitudes = area_df['Geo-Longitude']\n",
    "\n",
    "        # hovertempletes\n",
    "        area_hover = areaColumn + ':' + '%{customdata[0]}'\n",
    "        nibrs_hover = nibrsColumn + ':' + '%{customdata[1]}'\n",
    "        \n",
    "        # Create Subplot Layout\n",
    "        scatterBarCombo = make_subplots(rows=1,                                                # Number of Rows\n",
    "                                     cols=2,                                                   # Number of columns\n",
    "                                     horizontal_spacing=.28,                                   # Horizontal Spacing between columns\n",
    "                                     column_widths=[0.5, 0.5],                                 # Column Widths max = 1.0\n",
    "                                     specs=[[{\"type\": \"scattermapbox\"},{\"type\": \"bar\"}]])      # Specify Chart Types\n",
    "                                                  \n",
    "        # Create Geographic Map\n",
    "        scatterBarCombo.add_scattermapbox(row=1,                                                 # Row in subplot\n",
    "                                       col=1,                                                    # Column in subplot\n",
    "                                       name=f'{areaColumn} Crime Points',                        # Chart Name\n",
    "                                       lat=area_latitudes,                                       # Latitudes\n",
    "                                       lon=area_longitudes,                                      # Longitudes\n",
    "                                       showlegend=False,                                         # Do not show legend \n",
    "                                       marker=dict(color=area_df['NIBRS-Map']),                  # Set Markder color for each point\n",
    "                                       customdata=area_df[[areaColumn, nibrsColumn]],            # Custom Data Columns for Hover\n",
    "                                       hovertemplate=\"<br>\".join([area_hover, nibrs_hover]))     # Hover Information Template     \n",
    "\n",
    "        # Create Bar Chart\n",
    "        scatterBarCombo.add_bar(row=1,                                                                # Row in Subplot\n",
    "                             col=2,                                                                   # Column in subplot\n",
    "                             name=f'Total Crime by {nibrsColumn}',                                    # Chart Title\n",
    "                             text=area_vc[\"count\"],                                                   # Add Data Labels to bars\n",
    "                             orientation='h',                                                         # Orientation of Chart\n",
    "                             y=area_vc[nibrsColumn],                                                  # y Values\n",
    "                             x=area_vc['count'],                                                      # x values\n",
    "                             showlegend=False,                                                        # Do not show legent\n",
    "                             marker=dict(color=area_vc['count']),                                     # Marker Color\n",
    "                             customdata=area_vc[['count',nibrsColumn]],                               # Custom Data Columns for Hover\n",
    "                             hovertemplate=\"<br>\".join([nibrs_hover,\"Amount: %{customdata[0]}\"]))     # Hover Information Template\n",
    "\n",
    "        # Reverse order of values for Y-axis\n",
    "        scatterBarCombo.update_yaxes(row=1,                 # Row in Subplot\n",
    "                                  col=2,                    # Column in Subplot\n",
    "                                  autorange=\"reversed\")     # Reverse order of bars\n",
    "\n",
    "        # Create Layout for Subplot\n",
    "        scatterBarCombo.update_layout(height= 900,                                             # Height of Subplot\n",
    "                                   width= 1400,                                                # Width of Subplot\n",
    "                                   margin={\"r\":20,\"t\":60,\"l\":20,\"b\":10},                       # Margin values right, top, left, bottom                  \n",
    "                                   autosize=True,                                              # Set Autosize of charts to True or False\n",
    "                                   template='plotly_dark',                                     # Template of Subplot\n",
    "                                   title=dict(text=f'{area} {nibrsColumn} Overview',           # Title of Subplot\n",
    "                                              font=dict(color=\"White\",                         # Font color\n",
    "                                                        size=25)),                             # Font size\n",
    "                                   font=dict(color='White',                                    # Font Color\n",
    "                                             size=15),                                         # Font Size\n",
    "                                   mapbox=dict(zoom=zoomLevel,                                 # Zoom of Map\n",
    "                                               pitch=0,                                        # Pitch of Map\n",
    "                                               bearing=0,                                      # Bearing of Map\n",
    "                                               style=map_theme,                                # Theme of Scatter Map\n",
    "                                               center=dict(lat=np.mean(area_latitudes),        # Mean of Area Latitudes\n",
    "                                                           lon=np.mean(area_longitudes))))     # Mean of Area Longitudes\n",
    "\n",
    "        # Add Geographical Data Quality Annotation\n",
    "        scatterBarCombo.add_annotation(dict(y=0.01,                                          # y position \n",
    "                                         x=0.01,                                             # X position \n",
    "                                         yref=\"paper\",                                       # set y reference to paper\n",
    "                                         xref=\"paper\",                                       # Set X reference to paper\n",
    "                                         xanchor='left',                                     # Set x anchor\n",
    "                                         showarrow=False,                                    # Don't show arrow\n",
    "                                         textangle=0,                                        # Angle of Title\n",
    "                                         font=dict(color='grey',size=8),                     # Font color, size\n",
    "                                         text=f\"Geographical Data has accuracy of 99%\"))     # Title of Annotation\n",
    "        \n",
    "        # Add Totla Crime Stat\n",
    "        scatterBarCombo.add_annotation(dict(y=1.05,                                 # y position \n",
    "                                         x=0.75,                                    # X position \n",
    "                                         yref=\"paper\",                              # set y reference to paper\n",
    "                                         xref=\"paper\",                              # Set X reference to paper\n",
    "                                         xanchor='left',                            # Set x anchor\n",
    "                                         showarrow=False,                           # Don't show arrow\n",
    "                                         textangle=0,                               # Angle of Title\n",
    "                                         font=dict(color='white',                   # Font color\n",
    "                                                   size=20),                        # Font size\n",
    "                                         text=f\"Total Crimes: {len(area_df)}\"))     # Title of Annotation\n",
    "\n",
    "        # Replace / or \" \" with a dash\n",
    "        area = area.replace(\" \", \"-\")\n",
    "        area = area.replace(\"/\",\"-\")\n",
    "\n",
    "        # Create Path information\n",
    "        coverImagePath = f'ScatterMapBarChartCombo-2023-({nibrsColumn})-{area}.html'\n",
    "        areaFullPath = f'{areaPath}{area}'\n",
    "        \n",
    "        # Set the full path\n",
    "        finalPath = os.path.join(areaFullPath,coverImagePath)\n",
    "\n",
    "        # Save HTML\n",
    "        scatterBarCombo.write_html(finalPath)\n",
    "\n",
    "    # Show successful creation\n",
    "    print(f'[SUCCESS] Area Scatter Maps are Created for {areaColumn} & {nibrsColumn}!')\n",
    "        \n",
    "# Create Scatter Map & Barchart Combos\n",
    "createAreaScatterBarCombo(dataFrame=stl_df,              # DataFrame                \n",
    "                          areaColumn='Geo-Town',         # Area Column                  \n",
    "                          nibrsColumn='NIBRS-Offense',   # NIBRS Column                       \n",
    "                          zoomLevel=12,                  # Zoom Level value        \n",
    "                          areaPath='Towns/')             # Directory location         \n",
    "\n",
    "createAreaScatterBarCombo(dataFrame=stl_df,              # DataFrame                   \n",
    "                          areaColumn='Geo-Village',      # Area Column                     \n",
    "                          nibrsColumn='NIBRS-Offense',   # NIBRS Column                          \n",
    "                          zoomLevel=12,                  # Zoom Level value             \n",
    "                          areaPath='Villages/')          # Directory location              \n",
    "\n",
    "createAreaScatterBarCombo(dataFrame=stl_df,                # DataFrame                   \n",
    "                          areaColumn='Geo-Neighborhood',   # Area Column                              \n",
    "                          nibrsColumn='NIBRS-Offense',     # NIBRS Column                          \n",
    "                          zoomLevel=13.5,                  # Zoom Level value           \n",
    "                          areaPath='Neighborhoods/')       # Directory location  \n",
    "\n",
    "createAreaScatterBarCombo(dataFrame=stl_df,                       # DataFrame                \n",
    "                          areaColumn='Geo-Town',                  # Area Column                  \n",
    "                          nibrsColumn='NIBRS-Offense-Category',   # NIBRS Column                       \n",
    "                          zoomLevel=12,                           # Zoom Level value        \n",
    "                          areaPath='Towns/')                      # Directory location         \n",
    "\n",
    "createAreaScatterBarCombo(dataFrame=stl_df,                       # DataFrame                   \n",
    "                          areaColumn='Geo-Village',               # Area Column                     \n",
    "                          nibrsColumn='NIBRS-Offense-Category',   # NIBRS Column                          \n",
    "                          zoomLevel=12,                           # Zoom Level value             \n",
    "                          areaPath='Villages/')                   # Directory location              \n",
    "\n",
    "createAreaScatterBarCombo(dataFrame=stl_df,                         # DataFrame                   \n",
    "                          areaColumn='Geo-Neighborhood',            # Area Column                              \n",
    "                          nibrsColumn='NIBRS-Offense-Category',     # NIBRS Column                          \n",
    "                          zoomLevel=13.5,                           # Zoom Level value           \n",
    "                          areaPath='Neighborhoods/')                # Directory location  \n"
   ]
  },
  {
   "cell_type": "markdown",
   "metadata": {},
   "source": [
    "## Ranking Chart"
   ]
  },
  {
   "cell_type": "code",
   "execution_count": 28,
   "metadata": {},
   "outputs": [
    {
     "name": "stdout",
     "output_type": "stream",
     "text": [
      "[SUCCESS] Ranking BarCharts are created!\n"
     ]
    }
   ],
   "source": [
    "def createRankingBarChart(dataFrame):\n",
    "    '''\n",
    "    Title: Create Ranking Chart\n",
    "    Description: This function creates a barchart of all the crimefor each major Saint \n",
    "    Louis area!\n",
    "    dataFrame: The dataframe in which all data is found. \n",
    "    '''\n",
    "\n",
    "    # Create list of all NeighborHoods\n",
    "    area_list = ['Geo-Town','Geo-Village','Geo-Neighborhood']\n",
    "\n",
    "    # For each Neighborhood in the list\n",
    "    for area in area_list:\n",
    "\n",
    "        # Make into more readable format\n",
    "        areaName = area[4:] +'s'\n",
    "\n",
    "        # Create DataFrame of Neighborhood\n",
    "        area_df = dataFrame[dataFrame[area].notnull()]\n",
    "        # Value Count Lists\n",
    "        \n",
    "        area_vc = pd.DataFrame(area_df[area].value_counts().reset_index())\n",
    "\n",
    "        # Create Bar Chart\n",
    "        barChart = go.Figure(go.Bar(name=f'Rank ',                          # Chart Name\n",
    "                             text=area_vc[\"count\"],                         # Add Data Labels to bars\n",
    "                             orientation='h',                               # Orientation of Chart\n",
    "                             y=area_vc[area],                               # y Values\n",
    "                             x=area_vc['count'],                            # x values\n",
    "                             showlegend=False,                              # Do not show legend\n",
    "                             marker=dict(color=area_vc['count'])))          # Continuous colors based on amount\n",
    "\n",
    "        # Update BarChart Layout\n",
    "        barChart.update_layout(height=900,                                                           # Height of Subplot\n",
    "                               width=1400,                                                           # Width of Subplot\n",
    "                               margin={\"r\":0,\"t\":70,\"l\":0,\"b\":75},                                   # Margin values right, top, left, bottom    \n",
    "                               title=dict(text=f'Rankings of Total Crime in St. Louis {areaName}',   # Title of BarChart\n",
    "                                          font=dict(size=30)),                                       # Title Font size\n",
    "                               autosize=True,                                                        # Set Autosize of charts to True or False\n",
    "                               template='plotly_dark',                                               # Template of Subplot\n",
    "                               yaxis=dict(autorange=\"reversed\",                                      # Reserve Y-axis direction\n",
    "                                          title=dict(text=f'{areaName}',                             # X-axis title\n",
    "                                                     font=dict(size=20))),                           # Reverse Y-axis order\n",
    "                               xaxis=dict(title=dict(text=f'Amount of Crime',                        # X-axis title\n",
    "                                                     font=dict(size=20))))                           # X-axis title font size\n",
    "        \n",
    "        # Add Totla Crime Stats\n",
    "        barChart.add_annotation(dict(y=1.05,                                    # y position \n",
    "                                     x=0.78,                                    # X position \n",
    "                                     yref=\"paper\",                              # set y reference to paper\n",
    "                                     xref=\"paper\",                              # Set X reference to paper\n",
    "                                     xanchor='left',                            # Set x anchor\n",
    "                                     showarrow=False,                           # Don't show arrow\n",
    "                                     textangle=0,                               # Angle of Title\n",
    "                                     font=dict(color='white',                   # Font color\n",
    "                                               size=20),                        # Font size\n",
    "                                     text=f\"Total Crimes: {len(area_df)}\"))     # Title of Annotation\n",
    "\n",
    "        # Replace / or \" \" with a dash\n",
    "        area = area.replace(\" \", \"-\")\n",
    "        area = area.replace(\"/\",\"-\")\n",
    "\n",
    "        # Create Path information\n",
    "        coverImagePath = f'RankingChart-2023-{areaName}.html'\n",
    "        areaFullPath = f'{areaName}'\n",
    "        \n",
    "        # Set the full path\n",
    "        finalPath = os.path.join(areaFullPath,coverImagePath)\n",
    "\n",
    "        # Save HTML\n",
    "        barChart.write_html(finalPath)\n",
    "\n",
    "    print('[SUCCESS] Ranking BarCharts are created!')\n",
    "\n",
    "# Create Ranking BarCharts\n",
    "createRankingBarChart(dataFrame=stl_df)                 "
   ]
  },
  {
   "cell_type": "markdown",
   "metadata": {},
   "source": [
    "## Create HTML Source code"
   ]
  },
  {
   "cell_type": "code",
   "execution_count": 58,
   "metadata": {},
   "outputs": [
    {
     "name": "stdout",
     "output_type": "stream",
     "text": [
      "                Name        SpaceFixed        TotalFixed\n",
      "0            Academy           Academy           Academy\n",
      "1              Baden             Baden             Baden\n",
      "2        Benton Park       Benton-Park       Benton-Park\n",
      "3   Benton Park West  Benton-Park-West  Benton-Park-West\n",
      "4          Bevo Mill         Bevo-Mill         Bevo-Mill\n",
      "..               ...               ...               ...\n",
      "73  Walnut Park East  Walnut-Park-East  Walnut-Park-East\n",
      "74  Walnut Park West  Walnut-Park-West  Walnut-Park-West\n",
      "75  Wells Goodfellow  Wells-Goodfellow  Wells-Goodfellow\n",
      "76          West End          West-End          West-End\n",
      "77    Wydown Skinker    Wydown-Skinker    Wydown-Skinker\n",
      "\n",
      "[78 rows x 3 columns]\n"
     ]
    }
   ],
   "source": [
    "def stlWebLinks(areaCol, dataFrame, folder_name):\n",
    "    # Create pandas DF to store names and sort them into alphabetical order\n",
    "    areaNames = pd.DataFrame(columns=['Name'],data=dataFrame[dataFrame[areaCol].notnull()][areaCol].unique()).sort_values('Name').reset_index(drop=True)\n",
    "    areaNames['SpaceFixed'] = areaNames['Name'].str.replace(\" \", \"-\")\n",
    "    areaNames['TotalFixed'] = areaNames['SpaceFixed'].str.replace(\"/\", \"-\")\n",
    "\n",
    "    for i in range(0,len(areaNames)):\n",
    "        # Open file and set mode to append\n",
    "        file1 = open(\"myfile.txt\", \"a\")\n",
    "    \n",
    "        # writing newline character\n",
    "        file1.write(f'''\\n<!-- {areaNames['Name'][i]} -->\n",
    "<a href=\"google.com\">\n",
    "    <div class=\"stl-port-box\">\n",
    "        <img src=\"{folder_name}/{areaNames['TotalFixed'][i]}.jpeg\" alt=\"{areaNames[\"Name\"][i]} Crime Points\">\n",
    "        <div class=\"stl-port-layer\">\n",
    "            <h4>{areaNames['Name'][i]}</h4>\n",
    "        </div>\n",
    "    </div>\n",
    "</a>''')\n",
    "    # Close and save file\n",
    "    file1.close()\n",
    "\n",
    "stlWebLinks('Geo-Neighborhood', stl_df, 'Neighborhoods')"
   ]
  }
 ],
 "metadata": {
  "kernelspec": {
   "display_name": "Python 3",
   "language": "python",
   "name": "python3"
  },
  "language_info": {
   "codemirror_mode": {
    "name": "ipython",
    "version": 3
   },
   "file_extension": ".py",
   "mimetype": "text/x-python",
   "name": "python",
   "nbconvert_exporter": "python",
   "pygments_lexer": "ipython3",
   "version": "3.10.13"
  },
  "orig_nbformat": 4
 },
 "nbformat": 4,
 "nbformat_minor": 2
}
